{
 "cells": [
  {
   "cell_type": "markdown",
   "metadata": {},
   "source": [
    "# Required Imports"
   ]
  },
  {
   "cell_type": "code",
   "execution_count": 2,
   "metadata": {
    "_cell_guid": "b1076dfc-b9ad-4769-8c92-a6c4dae69d19",
    "_uuid": "8f2839f25d086af736a60e9eeb907d3b93b6e0e5",
    "collapsed": true,
    "execution": {
     "iopub.execute_input": "2024-03-16T09:38:24.663449Z",
     "iopub.status.busy": "2024-03-16T09:38:24.662113Z",
     "iopub.status.idle": "2024-03-16T09:38:25.304270Z",
     "shell.execute_reply": "2024-03-16T09:38:25.303221Z",
     "shell.execute_reply.started": "2024-03-16T09:38:24.663408Z"
    }
   },
   "outputs": [
    {
     "name": "stderr",
     "output_type": "stream",
     "text": [
      "/usr/local/lib/python3.8/dist-packages/torch/cuda/__init__.py:611: UserWarning: Can't initialize NVML\n",
      "  warnings.warn(\"Can't initialize NVML\")\n"
     ]
    }
   ],
   "source": [
    "import numpy as np # linear algebra\n",
    "import pandas as pd # data processing, CSV file I/O (e.g. pd.read_csv)\n",
    "import spacy\n",
    "import json\n",
    "import re"
   ]
  },
  {
   "cell_type": "code",
   "execution_count": 4,
   "metadata": {
    "execution": {
     "iopub.execute_input": "2024-03-16T09:38:33.693914Z",
     "iopub.status.busy": "2024-03-16T09:38:33.693215Z",
     "iopub.status.idle": "2024-03-16T09:38:34.116020Z",
     "shell.execute_reply": "2024-03-16T09:38:34.114776Z",
     "shell.execute_reply.started": "2024-03-16T09:38:33.693881Z"
    }
   },
   "outputs": [],
   "source": [
    "df = pd.read_csv('dataset.csv')"
   ]
  },
  {
   "cell_type": "code",
   "execution_count": 5,
   "metadata": {
    "execution": {
     "iopub.execute_input": "2024-03-16T09:38:34.119011Z",
     "iopub.status.busy": "2024-03-16T09:38:34.118472Z",
     "iopub.status.idle": "2024-03-16T09:40:44.071125Z",
     "shell.execute_reply": "2024-03-16T09:40:44.069786Z",
     "shell.execute_reply.started": "2024-03-16T09:38:34.118968Z"
    }
   },
   "outputs": [],
   "source": [
    "# ! pip install datasets\n",
    "# ! pip install transformers[torch]\n",
    "# ! pip install tokenizers\n",
    "# ! pip install evaluate\n",
    "# ! pip install rouge_score\n",
    "# ! pip install sentencepiece\n",
    "# ! pip install huggingface_hub\n",
    "# !pip install timexy"
   ]
  },
  {
   "cell_type": "code",
   "execution_count": 6,
   "metadata": {
    "collapsed": true,
    "execution": {
     "iopub.execute_input": "2024-03-16T09:40:44.075338Z",
     "iopub.status.busy": "2024-03-16T09:40:44.074789Z",
     "iopub.status.idle": "2024-03-16T09:41:05.950783Z",
     "shell.execute_reply": "2024-03-16T09:41:05.948831Z",
     "shell.execute_reply.started": "2024-03-16T09:40:44.075288Z"
    }
   },
   "outputs": [
    {
     "name": "stderr",
     "output_type": "stream",
     "text": [
      "2024-03-16 15:22:32.261551: I tensorflow/core/util/port.cc:110] oneDNN custom operations are on. You may see slightly different numerical results due to floating-point round-off errors from different computation orders. To turn them off, set the environment variable `TF_ENABLE_ONEDNN_OPTS=0`.\n",
      "2024-03-16 15:22:32.263567: I tensorflow/tsl/cuda/cudart_stub.cc:28] Could not find cuda drivers on your machine, GPU will not be used.\n",
      "2024-03-16 15:22:32.305695: I tensorflow/core/platform/cpu_feature_guard.cc:182] This TensorFlow binary is optimized to use available CPU instructions in performance-critical operations.\n",
      "To enable the following instructions: AVX2 AVX512F AVX512_VNNI FMA, in other operations, rebuild TensorFlow with the appropriate compiler flags.\n",
      "2024-03-16 15:22:33.171186: W tensorflow/compiler/tf2tensorrt/utils/py_utils.cc:38] TF-TRT Warning: Could not find TensorRT\n"
     ]
    }
   ],
   "source": [
    "import nltk\n",
    "import evaluate\n",
    "from datasets import load_dataset\n",
    "from transformers import T5Tokenizer, DataCollatorForSeq2Seq\n",
    "from transformers import T5ForConditionalGeneration, Seq2SeqTrainingArguments, Seq2SeqTrainer\n",
    "from datasets import Dataset, DatasetDict\n",
    "import timexy\n",
    "from timexy import Timexy\n",
    "from timexy import rule\n",
    "from timexy.languages import en"
   ]
  },
  {
   "cell_type": "code",
   "execution_count": 7,
   "metadata": {
    "collapsed": true,
    "execution": {
     "iopub.execute_input": "2024-03-16T09:41:05.954592Z",
     "iopub.status.busy": "2024-03-16T09:41:05.953052Z",
     "iopub.status.idle": "2024-03-16T09:41:07.514554Z",
     "shell.execute_reply": "2024-03-16T09:41:07.513225Z",
     "shell.execute_reply.started": "2024-03-16T09:41:05.954543Z"
    }
   },
   "outputs": [
    {
     "data": {
      "text/plain": [
       "<timexy.timexy.Timexy at 0x7f74ecc3e850>"
      ]
     },
     "execution_count": 7,
     "metadata": {},
     "output_type": "execute_result"
    }
   ],
   "source": [
    "nlp = spacy.load(\"en_core_web_sm\")\n",
    "\n",
    "# Optionally add config if varying from default values\n",
    "config = {\n",
    "    \"kb_id_type\": \"timex3\",  # possible values: 'timex3'(default), 'timestamp'\n",
    "    \"label\": \"timexy\",       # default: 'timexy'\n",
    "    \"overwrite\": False       # default: False\n",
    "}\n",
    "nlp.add_pipe(\"timexy\", config=config, before=\"ner\")"
   ]
  },
  {
   "cell_type": "markdown",
   "metadata": {},
   "source": [
    "# Preprocessing"
   ]
  },
  {
   "cell_type": "code",
   "execution_count": 38,
   "metadata": {},
   "outputs": [],
   "source": [
    "def preprocess(batch):\n",
    "    p,clean_batch = [],[]\n",
    "    for i in batch['Inputs']:\n",
    "        for j in i.split('\\n')[:-1]:\n",
    "            x = re.split('~__(True|False)__',j)\n",
    "            #print(x)\n",
    "            clean_batch.append(x[0])\n",
    "            p.append(eval(x[1]))\n",
    "    inputs = [\"Generate : \" + sentence for sentence in clean_batch]\n",
    "    model_inputs = tokenizer(inputs,truncation=True)\n",
    "    labels = tokenizer(text_target=list(batch['Outputs']),truncation=True)\n",
    "    model_inputs[\"labels\"] = labels[\"input_ids\"]\n",
    "    return model_inputs,p"
   ]
  },
  {
   "cell_type": "code",
   "execution_count": 39,
   "metadata": {},
   "outputs": [],
   "source": [
    "# train (1081)\n",
    "c=0\n",
    "for index, row in df.iterrows():\n",
    "    if((row['Chunk'])<=1081):\n",
    "        c+=1\n",
    "train = df.iloc[:c,:]\n",
    "\n",
    "# validate (rest)\n",
    "test = df.iloc[c:,:]"
   ]
  },
  {
   "cell_type": "markdown",
   "metadata": {},
   "source": [
    "# Training"
   ]
  },
  {
   "cell_type": "code",
   "execution_count": 40,
   "metadata": {},
   "outputs": [
    {
     "name": "stderr",
     "output_type": "stream",
     "text": [
      "Special tokens have been added in the vocabulary, make sure the associated word embeddings are fine-tuned or trained.\n"
     ]
    },
    {
     "data": {
      "text/plain": [
       "('./input/checkpoints/chkpnt1/tokenizer_config.json',\n",
       " './input/checkpoints/chkpnt1/special_tokens_map.json',\n",
       " './input/checkpoints/chkpnt1/spiece.model',\n",
       " './input/checkpoints/chkpnt1/added_tokens.json')"
      ]
     },
     "execution_count": 40,
     "metadata": {},
     "output_type": "execute_result"
    }
   ],
   "source": [
    "# Run it the first time\n",
    "MODEL_NAME = \"google/flan-t5-base\"\n",
    "\n",
    "tokenizer = T5Tokenizer.from_pretrained(MODEL_NAME)\n",
    "model = T5ForConditionalGeneration.from_pretrained(MODEL_NAME)\n",
    "\n",
    "chkpnt = './input/checkpoints/chkpnt1'\n",
    "model.save_pretrained(chkpnt)\n",
    "tokenizer.save_pretrained(chkpnt)"
   ]
  },
  {
   "cell_type": "code",
   "execution_count": 41,
   "metadata": {},
   "outputs": [
    {
     "name": "stderr",
     "output_type": "stream",
     "text": [
      "Special tokens have been added in the vocabulary, make sure the associated word embeddings are fine-tuned or trained.\n"
     ]
    }
   ],
   "source": [
    "model = T5ForConditionalGeneration.from_pretrained(chkpnt)\n",
    "tokenizer = T5Tokenizer.from_pretrained(chkpnt)\n",
    "data_collator = DataCollatorForSeq2Seq(tokenizer=tokenizer, model=model)"
   ]
  },
  {
   "cell_type": "code",
   "execution_count": 42,
   "metadata": {},
   "outputs": [],
   "source": [
    "tokenized_dataset,p = preprocess(train)\n",
    "test_dataset,p1 = preprocess(test)"
   ]
  },
  {
   "cell_type": "code",
   "execution_count": null,
   "metadata": {},
   "outputs": [],
   "source": [
    "# Training Arguments\n",
    "L_RATE = 3e-4\n",
    "BATCH_SIZE = 4\n",
    "PER_DEVICE_EVAL_BATCH = 2\n",
    "WEIGHT_DECAY = 0.01\n",
    "SAVE_TOTAL_LIM = 3\n",
    "NUM_EPOCHS = 3\n",
    "\n",
    "# Set up training arguments\n",
    "training_args = Seq2SeqTrainingArguments(\n",
    "   output_dir=\"./results\",\n",
    "   evaluation_strategy=\"epoch\",\n",
    "   learning_rate=L_RATE,\n",
    "   per_device_train_batch_size=BATCH_SIZE,\n",
    "   per_device_eval_batch_size=PER_DEVICE_EVAL_BATCH,\n",
    "   weight_decay=WEIGHT_DECAY,\n",
    "   save_total_limit=SAVE_TOTAL_LIM,\n",
    "   num_train_epochs=NUM_EPOCHS,\n",
    "   predict_with_generate=True,\n",
    "   push_to_hub=False\n",
    ")"
   ]
  },
  {
   "cell_type": "code",
   "execution_count": null,
   "metadata": {},
   "outputs": [],
   "source": [
    "trainer = Seq2SeqTrainer(\n",
    "   model=model,\n",
    "   args=training_args,\n",
    "   train_dataset=tokenized_dataset,\n",
    "   eval_dataset=test_dataset,\n",
    "   tokenizer=tokenizer,\n",
    "   data_collator=data_collator,\n",
    "   compute_metrics=compute_metrics\n",
    ")"
   ]
  }
 ],
 "metadata": {
  "kaggle": {
   "accelerator": "none",
   "dataSources": [
    {
     "databundleVersionId": 7921768,
     "datasetId": 4538425,
     "sourceId": 7818440,
     "sourceType": "datasetVersion"
    }
   ],
   "dockerImageVersionId": 30664,
   "isGpuEnabled": false,
   "isInternetEnabled": true,
   "language": "python",
   "sourceType": "notebook"
  },
  "kernelspec": {
   "display_name": "Python 3 (ipykernel)",
   "language": "python",
   "name": "python3"
  },
  "language_info": {
   "codemirror_mode": {
    "name": "ipython",
    "version": 3
   },
   "file_extension": ".py",
   "mimetype": "text/x-python",
   "name": "python",
   "nbconvert_exporter": "python",
   "pygments_lexer": "ipython3",
   "version": "3.8.10"
  }
 },
 "nbformat": 4,
 "nbformat_minor": 4
}

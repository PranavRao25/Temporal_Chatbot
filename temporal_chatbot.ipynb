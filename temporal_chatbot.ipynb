{
 "cells": [
  {
   "cell_type": "markdown",
   "metadata": {
    "id": "V-2J1UOMRxO5"
   },
   "source": [
    "# Required Imports"
   ]
  },
  {
   "cell_type": "code",
   "execution_count": 1,
   "metadata": {
    "id": "gehY6ri7_efR"
   },
   "outputs": [
    {
     "name": "stderr",
     "output_type": "stream",
     "text": [
      "/home/pranav/.local/lib/python3.8/site-packages/torch/cuda/__init__.py:628: UserWarning: Can't initialize NVML\n",
      "  warnings.warn(\"Can't initialize NVML\")\n",
      "/home/pranav/.local/lib/python3.8/site-packages/torch/cuda/__init__.py:758: UserWarning: CUDA initialization: CUDA unknown error - this may be due to an incorrectly set up environment, e.g. changing env variable CUDA_VISIBLE_DEVICES after program start. Setting the available devices to be zero. (Triggered internally at ../c10/cuda/CUDAFunctions.cpp:108.)\n",
      "  return torch._C._cuda_getDeviceCount() if nvml_count < 0 else nvml_count\n",
      "2024-05-14 23:53:29.067529: I tensorflow/core/util/port.cc:110] oneDNN custom operations are on. You may see slightly different numerical results due to floating-point round-off errors from different computation orders. To turn them off, set the environment variable `TF_ENABLE_ONEDNN_OPTS=0`.\n",
      "2024-05-14 23:53:29.341736: I tensorflow/core/platform/cpu_feature_guard.cc:182] This TensorFlow binary is optimized to use available CPU instructions in performance-critical operations.\n",
      "To enable the following instructions: AVX2 AVX512F AVX512_VNNI FMA, in other operations, rebuild TensorFlow with the appropriate compiler flags.\n",
      "2024-05-14 23:53:30.397215: W tensorflow/compiler/tf2tensorrt/utils/py_utils.cc:38] TF-TRT Warning: Could not find TensorRT\n"
     ]
    }
   ],
   "source": [
    "import numpy as np # linear algebra\n",
    "import pandas as pd # data processing, CSV file I/O (e.g. pd.read_csv)\n",
    "import spacy\n",
    "import json\n",
    "import re\n",
    "import pickle\n",
    "import optuna\n",
    "import torch\n",
    "from datetime import datetime\n",
    "from torch.utils.tensorboard import SummaryWriter\n",
    "from torch.utils.data import DataLoader\n",
    "#from torchtune import Trial, RandomSearchScheduler, Reporter"
   ]
  },
  {
   "cell_type": "code",
   "execution_count": 2,
   "metadata": {
    "id": "FayqHTZ4FWNi"
   },
   "outputs": [
    {
     "name": "stdout",
     "output_type": "stream",
     "text": [
      "Defaulting to user installation because normal site-packages is not writeable\n",
      "Requirement already satisfied: datasets in /home/pranav/.local/lib/python3.8/site-packages (2.17.0)\n",
      "Requirement already satisfied: filelock in /home/pranav/.local/lib/python3.8/site-packages (from datasets) (3.13.4)\n",
      "Requirement already satisfied: numpy>=1.17 in /home/pranav/.local/lib/python3.8/site-packages (from datasets) (1.24.4)\n",
      "Requirement already satisfied: pyarrow>=12.0.0 in /home/pranav/.local/lib/python3.8/site-packages (from datasets) (15.0.0)\n",
      "Requirement already satisfied: pyarrow-hotfix in /home/pranav/.local/lib/python3.8/site-packages (from datasets) (0.6)\n",
      "Requirement already satisfied: dill<0.3.9,>=0.3.0 in /home/pranav/.local/lib/python3.8/site-packages (from datasets) (0.3.8)\n",
      "Requirement already satisfied: pandas in /home/pranav/.local/lib/python3.8/site-packages (from datasets) (1.5.3)\n",
      "Requirement already satisfied: requests>=2.19.0 in /home/pranav/.local/lib/python3.8/site-packages (from datasets) (2.31.0)\n",
      "Requirement already satisfied: tqdm>=4.62.1 in /home/pranav/.local/lib/python3.8/site-packages (from datasets) (4.64.1)\n",
      "Requirement already satisfied: xxhash in /home/pranav/.local/lib/python3.8/site-packages (from datasets) (3.4.1)\n",
      "Requirement already satisfied: multiprocess in /home/pranav/.local/lib/python3.8/site-packages (from datasets) (0.70.16)\n",
      "Requirement already satisfied: fsspec<=2023.10.0,>=2023.1.0 in /usr/local/lib/python3.8/dist-packages (from fsspec[http]<=2023.10.0,>=2023.1.0->datasets) (2023.10.0)\n",
      "Requirement already satisfied: aiohttp in /home/pranav/.local/lib/python3.8/site-packages (from datasets) (3.9.3)\n",
      "Requirement already satisfied: huggingface-hub>=0.19.4 in /home/pranav/.local/lib/python3.8/site-packages (from datasets) (0.20.3)\n",
      "Requirement already satisfied: packaging in /home/pranav/.local/lib/python3.8/site-packages (from datasets) (23.0)\n",
      "Requirement already satisfied: pyyaml>=5.1 in /usr/lib/python3/dist-packages (from datasets) (5.3.1)\n",
      "Requirement already satisfied: aiosignal>=1.1.2 in /home/pranav/.local/lib/python3.8/site-packages (from aiohttp->datasets) (1.3.1)\n",
      "Requirement already satisfied: attrs>=17.3.0 in /home/pranav/.local/lib/python3.8/site-packages (from aiohttp->datasets) (22.2.0)\n",
      "Requirement already satisfied: frozenlist>=1.1.1 in /home/pranav/.local/lib/python3.8/site-packages (from aiohttp->datasets) (1.4.1)\n",
      "Requirement already satisfied: multidict<7.0,>=4.5 in /home/pranav/.local/lib/python3.8/site-packages (from aiohttp->datasets) (6.0.5)\n",
      "Requirement already satisfied: yarl<2.0,>=1.0 in /home/pranav/.local/lib/python3.8/site-packages (from aiohttp->datasets) (1.9.4)\n",
      "Requirement already satisfied: async-timeout<5.0,>=4.0 in /home/pranav/.local/lib/python3.8/site-packages (from aiohttp->datasets) (4.0.3)\n",
      "Requirement already satisfied: typing-extensions>=3.7.4.3 in /home/pranav/.local/lib/python3.8/site-packages (from huggingface-hub>=0.19.4->datasets) (4.10.0)\n",
      "Requirement already satisfied: charset-normalizer<4,>=2 in /home/pranav/.local/lib/python3.8/site-packages (from requests>=2.19.0->datasets) (3.0.1)\n",
      "Requirement already satisfied: idna<4,>=2.5 in /usr/lib/python3/dist-packages (from requests>=2.19.0->datasets) (2.8)\n",
      "Requirement already satisfied: urllib3<3,>=1.21.1 in /home/pranav/.local/lib/python3.8/site-packages (from requests>=2.19.0->datasets) (1.26.16)\n",
      "Requirement already satisfied: certifi>=2017.4.17 in /usr/lib/python3/dist-packages (from requests>=2.19.0->datasets) (2019.11.28)\n",
      "Requirement already satisfied: python-dateutil>=2.8.1 in /home/pranav/.local/lib/python3.8/site-packages (from pandas->datasets) (2.8.2)\n",
      "Requirement already satisfied: pytz>=2020.1 in /home/pranav/.local/lib/python3.8/site-packages (from pandas->datasets) (2022.7.1)\n",
      "Requirement already satisfied: six>=1.5 in /usr/lib/python3/dist-packages (from python-dateutil>=2.8.1->pandas->datasets) (1.14.0)\n",
      "zsh:1: no matches found: transformers[torch]\n",
      "Defaulting to user installation because normal site-packages is not writeable\n",
      "Requirement already satisfied: tokenizers in /home/pranav/.local/lib/python3.8/site-packages (0.15.2)\n",
      "Requirement already satisfied: huggingface_hub<1.0,>=0.16.4 in /home/pranav/.local/lib/python3.8/site-packages (from tokenizers) (0.20.3)\n",
      "Requirement already satisfied: filelock in /home/pranav/.local/lib/python3.8/site-packages (from huggingface_hub<1.0,>=0.16.4->tokenizers) (3.13.4)\n",
      "Requirement already satisfied: fsspec>=2023.5.0 in /usr/local/lib/python3.8/dist-packages (from huggingface_hub<1.0,>=0.16.4->tokenizers) (2023.10.0)\n",
      "Requirement already satisfied: requests in /home/pranav/.local/lib/python3.8/site-packages (from huggingface_hub<1.0,>=0.16.4->tokenizers) (2.31.0)\n",
      "Requirement already satisfied: tqdm>=4.42.1 in /home/pranav/.local/lib/python3.8/site-packages (from huggingface_hub<1.0,>=0.16.4->tokenizers) (4.64.1)\n",
      "Requirement already satisfied: pyyaml>=5.1 in /usr/lib/python3/dist-packages (from huggingface_hub<1.0,>=0.16.4->tokenizers) (5.3.1)\n",
      "Requirement already satisfied: typing-extensions>=3.7.4.3 in /home/pranav/.local/lib/python3.8/site-packages (from huggingface_hub<1.0,>=0.16.4->tokenizers) (4.10.0)\n",
      "Requirement already satisfied: packaging>=20.9 in /home/pranav/.local/lib/python3.8/site-packages (from huggingface_hub<1.0,>=0.16.4->tokenizers) (23.0)\n",
      "Requirement already satisfied: charset-normalizer<4,>=2 in /home/pranav/.local/lib/python3.8/site-packages (from requests->huggingface_hub<1.0,>=0.16.4->tokenizers) (3.0.1)\n",
      "Requirement already satisfied: idna<4,>=2.5 in /usr/lib/python3/dist-packages (from requests->huggingface_hub<1.0,>=0.16.4->tokenizers) (2.8)\n",
      "Requirement already satisfied: urllib3<3,>=1.21.1 in /home/pranav/.local/lib/python3.8/site-packages (from requests->huggingface_hub<1.0,>=0.16.4->tokenizers) (1.26.16)\n",
      "Requirement already satisfied: certifi>=2017.4.17 in /usr/lib/python3/dist-packages (from requests->huggingface_hub<1.0,>=0.16.4->tokenizers) (2019.11.28)\n",
      "Defaulting to user installation because normal site-packages is not writeable\n",
      "Requirement already satisfied: evaluate in /home/pranav/.local/lib/python3.8/site-packages (0.4.1)\n",
      "Requirement already satisfied: datasets>=2.0.0 in /home/pranav/.local/lib/python3.8/site-packages (from evaluate) (2.17.0)\n",
      "Requirement already satisfied: numpy>=1.17 in /home/pranav/.local/lib/python3.8/site-packages (from evaluate) (1.24.4)\n",
      "Requirement already satisfied: dill in /home/pranav/.local/lib/python3.8/site-packages (from evaluate) (0.3.8)\n",
      "Requirement already satisfied: pandas in /home/pranav/.local/lib/python3.8/site-packages (from evaluate) (1.5.3)\n",
      "Requirement already satisfied: requests>=2.19.0 in /home/pranav/.local/lib/python3.8/site-packages (from evaluate) (2.31.0)\n",
      "Requirement already satisfied: tqdm>=4.62.1 in /home/pranav/.local/lib/python3.8/site-packages (from evaluate) (4.64.1)\n",
      "Requirement already satisfied: xxhash in /home/pranav/.local/lib/python3.8/site-packages (from evaluate) (3.4.1)\n",
      "Requirement already satisfied: multiprocess in /home/pranav/.local/lib/python3.8/site-packages (from evaluate) (0.70.16)\n",
      "Requirement already satisfied: fsspec>=2021.05.0 in /usr/local/lib/python3.8/dist-packages (from fsspec[http]>=2021.05.0->evaluate) (2023.10.0)\n",
      "Requirement already satisfied: huggingface-hub>=0.7.0 in /home/pranav/.local/lib/python3.8/site-packages (from evaluate) (0.20.3)\n",
      "Requirement already satisfied: packaging in /home/pranav/.local/lib/python3.8/site-packages (from evaluate) (23.0)\n",
      "Requirement already satisfied: responses<0.19 in /home/pranav/.local/lib/python3.8/site-packages (from evaluate) (0.18.0)\n",
      "Requirement already satisfied: filelock in /home/pranav/.local/lib/python3.8/site-packages (from datasets>=2.0.0->evaluate) (3.13.4)\n",
      "Requirement already satisfied: pyarrow>=12.0.0 in /home/pranav/.local/lib/python3.8/site-packages (from datasets>=2.0.0->evaluate) (15.0.0)\n",
      "Requirement already satisfied: pyarrow-hotfix in /home/pranav/.local/lib/python3.8/site-packages (from datasets>=2.0.0->evaluate) (0.6)\n",
      "Requirement already satisfied: aiohttp in /home/pranav/.local/lib/python3.8/site-packages (from datasets>=2.0.0->evaluate) (3.9.3)\n",
      "Requirement already satisfied: pyyaml>=5.1 in /usr/lib/python3/dist-packages (from datasets>=2.0.0->evaluate) (5.3.1)\n"
     ]
    },
    {
     "name": "stdout",
     "output_type": "stream",
     "text": [
      "Requirement already satisfied: typing-extensions>=3.7.4.3 in /home/pranav/.local/lib/python3.8/site-packages (from huggingface-hub>=0.7.0->evaluate) (4.10.0)\n",
      "Requirement already satisfied: charset-normalizer<4,>=2 in /home/pranav/.local/lib/python3.8/site-packages (from requests>=2.19.0->evaluate) (3.0.1)\n",
      "Requirement already satisfied: idna<4,>=2.5 in /usr/lib/python3/dist-packages (from requests>=2.19.0->evaluate) (2.8)\n",
      "Requirement already satisfied: urllib3<3,>=1.21.1 in /home/pranav/.local/lib/python3.8/site-packages (from requests>=2.19.0->evaluate) (1.26.16)\n",
      "Requirement already satisfied: certifi>=2017.4.17 in /usr/lib/python3/dist-packages (from requests>=2.19.0->evaluate) (2019.11.28)\n",
      "Requirement already satisfied: python-dateutil>=2.8.1 in /home/pranav/.local/lib/python3.8/site-packages (from pandas->evaluate) (2.8.2)\n",
      "Requirement already satisfied: pytz>=2020.1 in /home/pranav/.local/lib/python3.8/site-packages (from pandas->evaluate) (2022.7.1)\n",
      "Requirement already satisfied: aiosignal>=1.1.2 in /home/pranav/.local/lib/python3.8/site-packages (from aiohttp->datasets>=2.0.0->evaluate) (1.3.1)\n",
      "Requirement already satisfied: attrs>=17.3.0 in /home/pranav/.local/lib/python3.8/site-packages (from aiohttp->datasets>=2.0.0->evaluate) (22.2.0)\n",
      "Requirement already satisfied: frozenlist>=1.1.1 in /home/pranav/.local/lib/python3.8/site-packages (from aiohttp->datasets>=2.0.0->evaluate) (1.4.1)\n",
      "Requirement already satisfied: multidict<7.0,>=4.5 in /home/pranav/.local/lib/python3.8/site-packages (from aiohttp->datasets>=2.0.0->evaluate) (6.0.5)\n",
      "Requirement already satisfied: yarl<2.0,>=1.0 in /home/pranav/.local/lib/python3.8/site-packages (from aiohttp->datasets>=2.0.0->evaluate) (1.9.4)\n",
      "Requirement already satisfied: async-timeout<5.0,>=4.0 in /home/pranav/.local/lib/python3.8/site-packages (from aiohttp->datasets>=2.0.0->evaluate) (4.0.3)\n",
      "Requirement already satisfied: six>=1.5 in /usr/lib/python3/dist-packages (from python-dateutil>=2.8.1->pandas->evaluate) (1.14.0)\n",
      "Defaulting to user installation because normal site-packages is not writeable\n",
      "Requirement already satisfied: rouge_score in /home/pranav/.local/lib/python3.8/site-packages (0.1.2)\n",
      "Requirement already satisfied: absl-py in /home/pranav/.local/lib/python3.8/site-packages (from rouge_score) (2.0.0)\n",
      "Requirement already satisfied: nltk in /home/pranav/.local/lib/python3.8/site-packages (from rouge_score) (3.8.1)\n",
      "Requirement already satisfied: numpy in /home/pranav/.local/lib/python3.8/site-packages (from rouge_score) (1.24.4)\n",
      "Requirement already satisfied: six>=1.14.0 in /usr/lib/python3/dist-packages (from rouge_score) (1.14.0)\n",
      "Requirement already satisfied: click in /home/pranav/.local/lib/python3.8/site-packages (from nltk->rouge_score) (8.1.7)\n",
      "Requirement already satisfied: joblib in /home/pranav/.local/lib/python3.8/site-packages (from nltk->rouge_score) (1.2.0)\n",
      "Requirement already satisfied: regex>=2021.8.3 in /home/pranav/.local/lib/python3.8/site-packages (from nltk->rouge_score) (2022.10.31)\n",
      "Requirement already satisfied: tqdm in /home/pranav/.local/lib/python3.8/site-packages (from nltk->rouge_score) (4.64.1)\n",
      "Defaulting to user installation because normal site-packages is not writeable\n",
      "Requirement already satisfied: sentencepiece in /home/pranav/.local/lib/python3.8/site-packages (0.2.0)\n",
      "Defaulting to user installation because normal site-packages is not writeable\n",
      "Requirement already satisfied: huggingface_hub in /home/pranav/.local/lib/python3.8/site-packages (0.20.3)\n",
      "Requirement already satisfied: filelock in /home/pranav/.local/lib/python3.8/site-packages (from huggingface_hub) (3.13.4)\n",
      "Requirement already satisfied: fsspec>=2023.5.0 in /usr/local/lib/python3.8/dist-packages (from huggingface_hub) (2023.10.0)\n",
      "Requirement already satisfied: requests in /home/pranav/.local/lib/python3.8/site-packages (from huggingface_hub) (2.31.0)\n",
      "Requirement already satisfied: tqdm>=4.42.1 in /home/pranav/.local/lib/python3.8/site-packages (from huggingface_hub) (4.64.1)\n",
      "Requirement already satisfied: pyyaml>=5.1 in /usr/lib/python3/dist-packages (from huggingface_hub) (5.3.1)\n",
      "Requirement already satisfied: typing-extensions>=3.7.4.3 in /home/pranav/.local/lib/python3.8/site-packages (from huggingface_hub) (4.10.0)\n",
      "Requirement already satisfied: packaging>=20.9 in /home/pranav/.local/lib/python3.8/site-packages (from huggingface_hub) (23.0)\n",
      "Requirement already satisfied: charset-normalizer<4,>=2 in /home/pranav/.local/lib/python3.8/site-packages (from requests->huggingface_hub) (3.0.1)\n",
      "Requirement already satisfied: idna<4,>=2.5 in /usr/lib/python3/dist-packages (from requests->huggingface_hub) (2.8)\n",
      "Requirement already satisfied: urllib3<3,>=1.21.1 in /home/pranav/.local/lib/python3.8/site-packages (from requests->huggingface_hub) (1.26.16)\n",
      "Requirement already satisfied: certifi>=2017.4.17 in /usr/lib/python3/dist-packages (from requests->huggingface_hub) (2019.11.28)\n",
      "Defaulting to user installation because normal site-packages is not writeable\n",
      "Requirement already satisfied: timexy in /home/pranav/.local/lib/python3.8/site-packages (0.1.3)\n",
      "Requirement already satisfied: spacy<4.0.0,>=3.2.2 in /home/pranav/.local/lib/python3.8/site-packages (from timexy) (3.7.4)\n",
      "Requirement already satisfied: spacy-legacy<3.1.0,>=3.0.11 in /home/pranav/.local/lib/python3.8/site-packages (from spacy<4.0.0,>=3.2.2->timexy) (3.0.12)\n",
      "Requirement already satisfied: spacy-loggers<2.0.0,>=1.0.0 in /home/pranav/.local/lib/python3.8/site-packages (from spacy<4.0.0,>=3.2.2->timexy) (1.0.5)\n",
      "Requirement already satisfied: murmurhash<1.1.0,>=0.28.0 in /home/pranav/.local/lib/python3.8/site-packages (from spacy<4.0.0,>=3.2.2->timexy) (1.0.10)\n",
      "Requirement already satisfied: cymem<2.1.0,>=2.0.2 in /home/pranav/.local/lib/python3.8/site-packages (from spacy<4.0.0,>=3.2.2->timexy) (2.0.8)\n",
      "Requirement already satisfied: preshed<3.1.0,>=3.0.2 in /home/pranav/.local/lib/python3.8/site-packages (from spacy<4.0.0,>=3.2.2->timexy) (3.0.9)\n",
      "Requirement already satisfied: thinc<8.3.0,>=8.2.2 in /home/pranav/.local/lib/python3.8/site-packages (from spacy<4.0.0,>=3.2.2->timexy) (8.2.3)\n",
      "Requirement already satisfied: wasabi<1.2.0,>=0.9.1 in /home/pranav/.local/lib/python3.8/site-packages (from spacy<4.0.0,>=3.2.2->timexy) (1.1.2)\n",
      "Requirement already satisfied: srsly<3.0.0,>=2.4.3 in /home/pranav/.local/lib/python3.8/site-packages (from spacy<4.0.0,>=3.2.2->timexy) (2.4.8)\n",
      "Requirement already satisfied: catalogue<2.1.0,>=2.0.6 in /home/pranav/.local/lib/python3.8/site-packages (from spacy<4.0.0,>=3.2.2->timexy) (2.0.10)\n",
      "Requirement already satisfied: weasel<0.4.0,>=0.1.0 in /home/pranav/.local/lib/python3.8/site-packages (from spacy<4.0.0,>=3.2.2->timexy) (0.3.4)\n",
      "Requirement already satisfied: typer<0.10.0,>=0.3.0 in /home/pranav/.local/lib/python3.8/site-packages (from spacy<4.0.0,>=3.2.2->timexy) (0.9.0)\n",
      "Requirement already satisfied: smart-open<7.0.0,>=5.2.1 in /home/pranav/.local/lib/python3.8/site-packages (from spacy<4.0.0,>=3.2.2->timexy) (6.4.0)\n",
      "Requirement already satisfied: tqdm<5.0.0,>=4.38.0 in /home/pranav/.local/lib/python3.8/site-packages (from spacy<4.0.0,>=3.2.2->timexy) (4.64.1)\n",
      "Requirement already satisfied: requests<3.0.0,>=2.13.0 in /home/pranav/.local/lib/python3.8/site-packages (from spacy<4.0.0,>=3.2.2->timexy) (2.31.0)\n",
      "Requirement already satisfied: pydantic!=1.8,!=1.8.1,<3.0.0,>=1.7.4 in /home/pranav/.local/lib/python3.8/site-packages (from spacy<4.0.0,>=3.2.2->timexy) (2.6.2)\n",
      "Requirement already satisfied: jinja2 in /home/pranav/.local/lib/python3.8/site-packages (from spacy<4.0.0,>=3.2.2->timexy) (3.1.2)\n",
      "Requirement already satisfied: setuptools in /home/pranav/.local/lib/python3.8/site-packages (from spacy<4.0.0,>=3.2.2->timexy) (69.1.1)\n",
      "Requirement already satisfied: packaging>=20.0 in /home/pranav/.local/lib/python3.8/site-packages (from spacy<4.0.0,>=3.2.2->timexy) (23.0)\n",
      "Requirement already satisfied: langcodes<4.0.0,>=3.2.0 in /home/pranav/.local/lib/python3.8/site-packages (from spacy<4.0.0,>=3.2.2->timexy) (3.3.0)\n",
      "Requirement already satisfied: numpy>=1.15.0 in /home/pranav/.local/lib/python3.8/site-packages (from spacy<4.0.0,>=3.2.2->timexy) (1.24.4)\n",
      "Requirement already satisfied: annotated-types>=0.4.0 in /home/pranav/.local/lib/python3.8/site-packages (from pydantic!=1.8,!=1.8.1,<3.0.0,>=1.7.4->spacy<4.0.0,>=3.2.2->timexy) (0.6.0)\n",
      "Requirement already satisfied: pydantic-core==2.16.3 in /home/pranav/.local/lib/python3.8/site-packages (from pydantic!=1.8,!=1.8.1,<3.0.0,>=1.7.4->spacy<4.0.0,>=3.2.2->timexy) (2.16.3)\n",
      "Requirement already satisfied: typing-extensions>=4.6.1 in /home/pranav/.local/lib/python3.8/site-packages (from pydantic!=1.8,!=1.8.1,<3.0.0,>=1.7.4->spacy<4.0.0,>=3.2.2->timexy) (4.10.0)\n"
     ]
    },
    {
     "name": "stdout",
     "output_type": "stream",
     "text": [
      "Requirement already satisfied: charset-normalizer<4,>=2 in /home/pranav/.local/lib/python3.8/site-packages (from requests<3.0.0,>=2.13.0->spacy<4.0.0,>=3.2.2->timexy) (3.0.1)\n",
      "Requirement already satisfied: idna<4,>=2.5 in /usr/lib/python3/dist-packages (from requests<3.0.0,>=2.13.0->spacy<4.0.0,>=3.2.2->timexy) (2.8)\n",
      "Requirement already satisfied: urllib3<3,>=1.21.1 in /home/pranav/.local/lib/python3.8/site-packages (from requests<3.0.0,>=2.13.0->spacy<4.0.0,>=3.2.2->timexy) (1.26.16)\n",
      "Requirement already satisfied: certifi>=2017.4.17 in /usr/lib/python3/dist-packages (from requests<3.0.0,>=2.13.0->spacy<4.0.0,>=3.2.2->timexy) (2019.11.28)\n",
      "Requirement already satisfied: blis<0.8.0,>=0.7.8 in /home/pranav/.local/lib/python3.8/site-packages (from thinc<8.3.0,>=8.2.2->spacy<4.0.0,>=3.2.2->timexy) (0.7.11)\n",
      "Requirement already satisfied: confection<1.0.0,>=0.0.1 in /home/pranav/.local/lib/python3.8/site-packages (from thinc<8.3.0,>=8.2.2->spacy<4.0.0,>=3.2.2->timexy) (0.1.4)\n",
      "Requirement already satisfied: click<9.0.0,>=7.1.1 in /home/pranav/.local/lib/python3.8/site-packages (from typer<0.10.0,>=0.3.0->spacy<4.0.0,>=3.2.2->timexy) (8.1.7)\n",
      "Requirement already satisfied: cloudpathlib<0.17.0,>=0.7.0 in /home/pranav/.local/lib/python3.8/site-packages (from weasel<0.4.0,>=0.1.0->spacy<4.0.0,>=3.2.2->timexy) (0.16.0)\n",
      "Requirement already satisfied: MarkupSafe>=2.0 in /home/pranav/.local/lib/python3.8/site-packages (from jinja2->spacy<4.0.0,>=3.2.2->timexy) (2.1.2)\n"
     ]
    }
   ],
   "source": [
    "! pip install datasets\n",
    "! pip install transformers[torch]\n",
    "! pip install tokenizers\n",
    "! pip install evaluate\n",
    "! pip install rouge_score\n",
    "! pip install sentencepiece\n",
    "! pip install huggingface_hub\n",
    "!pip install timexy"
   ]
  },
  {
   "cell_type": "code",
   "execution_count": 3,
   "metadata": {
    "id": "ZYnmKA59Fj95"
   },
   "outputs": [],
   "source": [
    "import nltk\n",
    "import evaluate\n",
    "import datasets\n",
    "from datasets import load_dataset\n",
    "from transformers import T5Tokenizer, DataCollatorForSeq2Seq,TFMT5ForConditionalGeneration, MT5Tokenizer, AutoModelForSeq2SeqLM\n",
    "from transformers import T5ForConditionalGeneration, Seq2SeqTrainingArguments, Seq2SeqTrainer, AutoTokenizer\n",
    "from transformers import TrainingArguments, Trainer, T5Tokenizer, T5ForConditionalGeneration\n",
    "from datasets import Dataset, DatasetDict,load_dataset\n",
    "import timexy\n",
    "from timexy import Timexy\n",
    "from timexy import rule\n",
    "from timexy.languages import en"
   ]
  },
  {
   "cell_type": "code",
   "execution_count": 4,
   "metadata": {
    "id": "evUA07vrGWiM",
    "outputId": "ef807e49-c100-4866-f1f6-e402469043f0",
    "scrolled": true
   },
   "outputs": [
    {
     "data": {
      "text/plain": [
       "<timexy.timexy.Timexy at 0x7fc6bcef0970>"
      ]
     },
     "execution_count": 4,
     "metadata": {},
     "output_type": "execute_result"
    }
   ],
   "source": [
    "nlp = spacy.load(\"en_core_web_sm\")\n",
    "\n",
    "# Optionally add config if varying from default values\n",
    "config = {\n",
    "    \"kb_id_type\": \"timex3\",  # possible values: 'timex3'(default), 'timestamp'\n",
    "    \"label\": \"timexy\",       # default: 'timexy'\n",
    "    \"overwrite\": False       # default: False\n",
    "}\n",
    "nlp.add_pipe(\"timexy\", config=config, before=\"ner\")"
   ]
  },
  {
   "cell_type": "code",
   "execution_count": 5,
   "metadata": {
    "id": "o4WXzlCs_kil"
   },
   "outputs": [],
   "source": [
    "output_dir = \"./results\""
   ]
  },
  {
   "cell_type": "code",
   "execution_count": 6,
   "metadata": {
    "id": "ANQvEBCg_kin"
   },
   "outputs": [],
   "source": [
    "chkpnt = './input/checkpoints/chkpnt1'"
   ]
  },
  {
   "cell_type": "code",
   "execution_count": null,
   "metadata": {
    "id": "xVONXWH2_kiq"
   },
   "outputs": [],
   "source": [
    "torch.cuda.empty_cache()"
   ]
  },
  {
   "cell_type": "code",
   "execution_count": 7,
   "metadata": {
    "id": "GM6MKyGC_kis"
   },
   "outputs": [],
   "source": [
    "MODEL_NAME = \"google/flan-t5-base\""
   ]
  },
  {
   "cell_type": "code",
   "execution_count": 8,
   "metadata": {
    "id": "Wfq3VJsE_kit"
   },
   "outputs": [],
   "source": [
    "df = pd.read_csv('dataset.csv')\n",
    "testing = pd.read_csv('testing_data.csv')"
   ]
  },
  {
   "cell_type": "markdown",
   "metadata": {
    "id": "NMgNMaxQSFzZ"
   },
   "source": [
    "# Model Preparation"
   ]
  },
  {
   "cell_type": "code",
   "execution_count": 9,
   "metadata": {
    "id": "LkJZrKRUH5NK"
   },
   "outputs": [
    {
     "name": "stderr",
     "output_type": "stream",
     "text": [
      "You are using the default legacy behaviour of the <class 'transformers.models.t5.tokenization_t5.T5Tokenizer'>. This is expected, and simply means that the `legacy` (previous) behavior will be used so nothing changes for you. If you want to use the new behaviour, set `legacy=False`. This should only be set if you understand what it means, and thoroughly read the reason why this was added as explained in https://github.com/huggingface/transformers/pull/24565\n",
      "Special tokens have been added in the vocabulary, make sure the associated word embeddings are fine-tuned or trained.\n"
     ]
    },
    {
     "data": {
      "text/plain": [
       "('./input/checkpoints/chkpnt1/tokenizer_config.json',\n",
       " './input/checkpoints/chkpnt1/special_tokens_map.json',\n",
       " './input/checkpoints/chkpnt1/spiece.model',\n",
       " './input/checkpoints/chkpnt1/added_tokens.json')"
      ]
     },
     "execution_count": 9,
     "metadata": {},
     "output_type": "execute_result"
    }
   ],
   "source": [
    "# Run it the first time\n",
    "tokenizer = T5Tokenizer.from_pretrained(MODEL_NAME)\n",
    "model = T5ForConditionalGeneration.from_pretrained(MODEL_NAME)\n",
    "data_collator = DataCollatorForSeq2Seq(tokenizer=tokenizer, model=model)\n",
    "model.save_pretrained(chkpnt)\n",
    "tokenizer.save_pretrained(chkpnt)"
   ]
  },
  {
   "cell_type": "code",
   "execution_count": null,
   "metadata": {
    "id": "QShoCqZqXQvy"
   },
   "outputs": [],
   "source": [
    "# Training Arguments\n",
    "L_RATE = 3e-4\n",
    "BATCH_SIZE = 4\n",
    "PER_DEVICE_EVAL_BATCH = 2\n",
    "WEIGHT_DECAY = 0.01\n",
    "SAVE_TOTAL_LIM = 3\n",
    "NUM_EPOCHS = 5\n",
    "drop_out = 0.5"
   ]
  },
  {
   "cell_type": "code",
   "execution_count": null,
   "metadata": {
    "id": "1yNYPDfvJA_Q"
   },
   "outputs": [],
   "source": [
    "model = T5ForConditionalGeneration.from_pretrained(chkpnt)\n",
    "tokenizer = T5Tokenizer.from_pretrained(chkpnt)\n",
    "data_collator = DataCollatorForSeq2Seq(tokenizer=tokenizer, model=model)\n",
    "model.config.dropout_rate = drop_out"
   ]
  },
  {
   "cell_type": "code",
   "execution_count": null,
   "metadata": {
    "id": "ZQhB8UHuJyTc"
   },
   "outputs": [],
   "source": [
    "training_args = Seq2SeqTrainingArguments(\n",
    "   output_dir=output_dir,\n",
    "   evaluation_strategy=\"epoch\",\n",
    "  #  save_steps=num_train_steps_per_epoch,\n",
    "   learning_rate=L_RATE,\n",
    "   per_device_train_batch_size=BATCH_SIZE,\n",
    "   per_device_eval_batch_size=PER_DEVICE_EVAL_BATCH,\n",
    "   weight_decay=WEIGHT_DECAY,\n",
    "   save_total_limit=SAVE_TOTAL_LIM,\n",
    "   num_train_epochs=NUM_EPOCHS,\n",
    "   predict_with_generate=True,\n",
    "   push_to_hub=False,\n",
    "   logging_dir=f\"{output_dir}/logs\",  # TensorBoard logs directory\n",
    "   logging_steps=10,  # Adjust to control how often to log metrics\n",
    "   report_to=\"tensorboard\"  # Report metrics to TensorBoard\n",
    ")"
   ]
  },
  {
   "cell_type": "code",
   "execution_count": null,
   "metadata": {
    "id": "pJLEMFjWy6rQ"
   },
   "outputs": [],
   "source": [
    "def preprocess_fun(batch):\n",
    "  prefix = \"Generate: \" # to inform the model to generate on the given input\n",
    "  clean_batch=[]\n",
    "  check=[]\n",
    "  for i in batch['Inputs']:\n",
    "    x=\"\"\n",
    "    l=[]\n",
    "    for j in i.split('\\n')[:-1]:\n",
    "      x += re.split('~__(True|False)__',j)[0] # to extract whether a sentence has temporal sense or not\n",
    "      l.append(re.split('~__(True|False)__',j)[1])\n",
    "    clean_batch.append(x)\n",
    "    check.append(l)\n",
    "\n",
    "  # The \"inputs\" are the tokenized answer:\n",
    "  inputs = [(prefix + doc) for doc in clean_batch]\n",
    "  model_inputs = tokenizer(inputs, max_length=512, truncation=True,padding='max_length')\n",
    "\n",
    "  # The \"labels\" are the tokenized outputs:\n",
    "  labels = tokenizer(text_target=batch[\"Outputs\"],\n",
    "                      max_length=512,\n",
    "                      truncation=True,\n",
    "                     padding='max_length')\n",
    "  model_inputs[\"labels\"] = labels[\"input_ids\"]\n",
    "  return model_inputs"
   ]
  },
  {
   "cell_type": "code",
   "execution_count": null,
   "metadata": {
    "id": "dSZsja8AHFJG"
   },
   "outputs": [],
   "source": [
    "nltk.download(\"punkt\", quiet=True)\n",
    "metric = evaluate.load(\"rouge\")"
   ]
  },
  {
   "cell_type": "code",
   "execution_count": null,
   "metadata": {
    "id": "GNCssQ4XgqjE"
   },
   "outputs": [],
   "source": [
    "def compute_metrics(eval_preds):\n",
    "    preds,refs = eval_preds\n",
    "\n",
    "    if preds.ndim == 0:\n",
    "        preds = preds.unsqueeze(0)\n",
    "\n",
    "    if refs.ndim == 0:\n",
    "        refs = refs.unsqueeze(0)\n",
    "\n",
    "    decoded_preds = tokenizer.batch_decode(preds, skip_special_tokens=True)\n",
    "    decoded_labels = tokenizer.batch_decode(refs, skip_special_tokens=True)\n",
    "\n",
    "    # pred_tags = [nlp(seq) for seq in decode_preds]\n",
    "    # actual_tags = [nlp(seq) for seq in decoded_labels]\n",
    "    # err = nltk.metrics.scores.log_likelihood(actual_tags,pred_tags)\n",
    "    result = metric.compute(predictions=decoded_preds, references=decoded_labels, use_stemmer=True)\n",
    "\n",
    "    return result"
   ]
  },
  {
   "cell_type": "markdown",
   "metadata": {
    "id": "wRKZJ5ehR5Vg"
   },
   "source": [
    "# Dataset Preparation"
   ]
  },
  {
   "cell_type": "code",
   "execution_count": null,
   "metadata": {
    "id": "k_iu8RLW_ki4"
   },
   "outputs": [],
   "source": [
    "# Get unique chunk identifiers\n",
    "unique_chunks = df[\"Chunk\"].unique()\n",
    "\n",
    "# Shuffle the unique chunks\n",
    "np.random.shuffle(unique_chunks)\n",
    "\n",
    "# Reorder the DataFrame based on the shuffled chunks\n",
    "df = pd.concat([df[df[\"Chunk\"] == chunk] for chunk in unique_chunks], ignore_index=True)"
   ]
  },
  {
   "cell_type": "code",
   "execution_count": null,
   "metadata": {
    "id": "1aRrMGUW_ki5"
   },
   "outputs": [],
   "source": [
    "c=0\n",
    "for index, row in df.iterrows():\n",
    "    if((row['Chunk'])<=1046):\n",
    "        c+=1\n",
    "train = df.iloc[:c,:]\n",
    "valid = df.iloc[c:,:]"
   ]
  },
  {
   "cell_type": "code",
   "execution_count": null,
   "metadata": {
    "id": "5pY-hWAx_ki6"
   },
   "outputs": [],
   "source": [
    "trd = Dataset.from_pandas(train)\n",
    "vsd = Dataset.from_pandas(valid)\n",
    "tsd = Dataset.from_pandas(testing)\n",
    "dataset_dict = DatasetDict(\n",
    "  {\n",
    "      'train':trd,\n",
    "      'valid':vsd,\n",
    "      'test':tsd\n",
    "  }\n",
    ")\n",
    "\n",
    "tokenized_dataset = dataset_dict.map(preprocess_fun,batched=True)"
   ]
  },
  {
   "cell_type": "code",
   "execution_count": null,
   "metadata": {
    "id": "eDKZpHig_ki7"
   },
   "outputs": [],
   "source": [
    "with open(\"tokenized_dataset.pickle\", 'wb') as file:\n",
    "    pickle.dump(tokenized_dataset, file)"
   ]
  },
  {
   "cell_type": "markdown",
   "metadata": {
    "id": "G0F2as-3SVJp",
    "jp-MarkdownHeadingCollapsed": true
   },
   "source": [
    "# Validation"
   ]
  },
  {
   "cell_type": "code",
   "execution_count": null,
   "metadata": {
    "id": "e_bwsn_k_ki8"
   },
   "outputs": [],
   "source": [
    "perc = 80\n",
    "train_size = int((perc/100)*max(df['Chunk']))"
   ]
  },
  {
   "cell_type": "code",
   "execution_count": null,
   "metadata": {
    "id": "R42mhbdk_ki9"
   },
   "outputs": [],
   "source": [
    "def crossValid(k=5):\n",
    "  sm = int(np.floor(train_size/k)) # each batch size\n",
    "  split_data = [(i*sm,(i+1)*sm) for i in range(k-1)] + [((k-1)*sm,train_size)]\n",
    "  evals = [] # model evaluations and model\n",
    "\n",
    "  for split in split_data:\n",
    "    t_i,v_i = [],[]\n",
    "    for index,row in df.iterrows():\n",
    "        if(split[0]<=row['Chunk']<=split[1]):\n",
    "            v_i.append(index)\n",
    "        else:\n",
    "            t_i.append(index)\n",
    "\n",
    "    valid = df.iloc[v_i]\n",
    "    train = df.iloc[t_i]\n",
    "\n",
    "    trd = Dataset.from_pandas(train)\n",
    "    vdd = Dataset.from_pandas(valid)\n",
    "\n",
    "    dataset_dict = DatasetDict(\n",
    "      {\n",
    "          'train':trd,\n",
    "          'valid':vdd,\n",
    "          'test':tsd\n",
    "      }\n",
    "    )\n",
    "\n",
    "    tokenized_dataset = dataset_dict.map(preprocess_fun,batched=True)\n",
    "\n",
    "    model = T5ForConditionalGeneration.from_pretrained(chkpnt)\n",
    "    tokenizer = T5Tokenizer.from_pretrained(chkpnt)\n",
    "    data_collator = DataCollatorForSeq2Seq(tokenizer=tokenizer, model=model)\n",
    "    model.config.dropout_rate = drop_out\n",
    "\n",
    "    trainer = Seq2SeqTrainer(\n",
    "    model=model,\n",
    "    args=training_args,\n",
    "    train_dataset=tokenized_dataset[\"train\"],\n",
    "    eval_dataset=tokenized_dataset[\"valid\"],\n",
    "    tokenizer=tokenizer,\n",
    "    data_collator=data_collator,\n",
    "    compute_metrics=compute_metrics\n",
    "    )\n",
    "    trainer.train()\n",
    "    evals.append((trainer.evaluate(),model))\n",
    "  return evals"
   ]
  },
  {
   "cell_type": "code",
   "execution_count": null,
   "metadata": {
    "id": "I1-QpcL6CzcZ"
   },
   "outputs": [],
   "source": [
    "evals = crossValid()"
   ]
  },
  {
   "cell_type": "code",
   "execution_count": null,
   "metadata": {
    "id": "X7zz5ybJ_ki-"
   },
   "outputs": [],
   "source": [
    "s = f'evals_{datetime.now()}.txt'\n",
    "with open(s,'w') as f:\n",
    "    print(evals,file=f)"
   ]
  },
  {
   "cell_type": "markdown",
   "metadata": {
    "id": "UCT7rcEc_kjD"
   },
   "source": [
    "# Training"
   ]
  },
  {
   "cell_type": "code",
   "execution_count": null,
   "metadata": {
    "id": "TBiJJ_nn_kjD"
   },
   "outputs": [],
   "source": [
    "trainer = Seq2SeqTrainer(\n",
    "model=model,\n",
    "args=training_args,\n",
    "train_dataset=tokenized_dataset[\"train\"],\n",
    "eval_dataset=tokenized_dataset[\"valid\"],\n",
    "tokenizer=tokenizer,\n",
    "data_collator=data_collator,\n",
    "compute_metrics=compute_metrics\n",
    ")"
   ]
  },
  {
   "cell_type": "code",
   "execution_count": null,
   "metadata": {
    "id": "QVCZ0-1I_kjE"
   },
   "outputs": [],
   "source": [
    "trainer.train()"
   ]
  },
  {
   "cell_type": "markdown",
   "metadata": {
    "id": "HnsyfHAqaep2"
   },
   "source": [
    "# Testing"
   ]
  },
  {
   "cell_type": "code",
   "execution_count": null,
   "metadata": {
    "id": "0Ppzemj4t16h"
   },
   "outputs": [],
   "source": [
    "trainer.predict(tokenized_dataset[\"test\"])"
   ]
  },
  {
   "cell_type": "markdown",
   "metadata": {
    "id": "nHDxIT8i5Ml2"
   },
   "source": [
    "# Saving"
   ]
  },
  {
   "cell_type": "code",
   "execution_count": null,
   "metadata": {
    "id": "aXLJzPgo5Njp"
   },
   "outputs": [],
   "source": [
    "c = datetime.now()\n",
    "s1 = f\"./model_lr_3e_4_drop_out_5_epoch_5/model\"\n",
    "s2 = f\"./model_lr_3e_4_drop_out_5_epoch_5/tokenizer\"\n",
    "model.save_pretrained(s1)\n",
    "tokenizer.save_pretrained(s2)"
   ]
  },
  {
   "cell_type": "markdown",
   "metadata": {
    "id": "ccnIB4Dq_kjJ",
    "jp-MarkdownHeadingCollapsed": true
   },
   "source": [
    "# Manual Testing"
   ]
  },
  {
   "cell_type": "code",
   "execution_count": null,
   "metadata": {
    "id": "j7GrAhq9_kjK"
   },
   "outputs": [],
   "source": [
    "# Example text for generation\n",
    "text = '''\n",
    "Generate:\n",
    "How many days in a week?'''\n",
    "\n",
    "# Tokenize the text and generate output\n",
    "inputs = tokenizer(text, return_tensors=\"pt\")\n",
    "outputs = model.generate(**inputs)\n",
    "\n",
    "# Decode the output tokens to text\n",
    "result = tokenizer.decode(outputs[0], skip_special_tokens=True)\n",
    "print(\"Generated output:\", result)"
   ]
  }
 ],
 "metadata": {
  "accelerator": "GPU",
  "colab": {
   "collapsed_sections": [
    "V-2J1UOMRxO5",
    "NMgNMaxQSFzZ",
    "wRKZJ5ehR5Vg",
    "G0F2as-3SVJp",
    "UCT7rcEc_kjD",
    "HnsyfHAqaep2",
    "nHDxIT8i5Ml2",
    "ccnIB4Dq_kjJ"
   ],
   "gpuType": "T4",
   "provenance": []
  },
  "kernelspec": {
   "display_name": "Python 3 (ipykernel)",
   "language": "python",
   "name": "python3"
  },
  "language_info": {
   "codemirror_mode": {
    "name": "ipython",
    "version": 3
   },
   "file_extension": ".py",
   "mimetype": "text/x-python",
   "name": "python",
   "nbconvert_exporter": "python",
   "pygments_lexer": "ipython3",
   "version": "3.8.10"
  }
 },
 "nbformat": 4,
 "nbformat_minor": 1
}

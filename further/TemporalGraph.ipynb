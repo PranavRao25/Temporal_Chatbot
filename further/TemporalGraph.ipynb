{
  "cells": [
    {
      "cell_type": "code",
      "source": [
        "from google.colab import drive\n",
        "import json\n",
        "import os\n",
        "import re"
      ],
      "metadata": {
        "id": "UzwWg6anS7G-"
      },
      "id": "UzwWg6anS7G-",
      "execution_count": null,
      "outputs": []
    },
    {
      "cell_type": "code",
      "source": [
        "drive.mount('/content/drive')"
      ],
      "metadata": {
        "colab": {
          "base_uri": "https://localhost:8080/"
        },
        "id": "Mu-NCKMzS8Oh",
        "outputId": "cdcaf65a-b484-4496-9f2e-f30f16323e08"
      },
      "id": "Mu-NCKMzS8Oh",
      "execution_count": null,
      "outputs": [
        {
          "output_type": "stream",
          "name": "stdout",
          "text": [
            "Mounted at /content/drive\n"
          ]
        }
      ]
    },
    {
      "cell_type": "code",
      "execution_count": null,
      "id": "8a81c2ac",
      "metadata": {
        "id": "8a81c2ac"
      },
      "outputs": [],
      "source": [
        "class Interval:\n",
        "    def __init__(self, low, high):\n",
        "        self.low, self.high = low, high\n",
        "\n",
        "    def __eq__(self, interval):\n",
        "        return (self.low == interval.low) and (self.high == interval.high)\n",
        "\n",
        "    def contains(self, interval):\n",
        "        return (self.low <= interval.low) and (self.high >= interval.high)\n",
        "\n",
        "    def present(self, interval):\n",
        "        return (self.low > interval.low) and (self.high < interval.high)\n",
        "\n",
        "    def overlap(self, interval):\n",
        "        return (interval.low <= self.low <= interval.high) or (interval.low <= self.high <= interval.high)\n",
        "\n",
        "    def diff(self):\n",
        "        return self.high - self.low"
      ]
    },
    {
      "cell_type": "code",
      "execution_count": null,
      "id": "6d4e079b",
      "metadata": {
        "id": "6d4e079b"
      },
      "outputs": [],
      "source": [
        "class GraphNode:\n",
        "    def __init__(self, event: str):\n",
        "        if not isinstance(event, str):\n",
        "            raise Exception(\"event has to be string type\")\n",
        "\n",
        "        self.event = event\n",
        "        self.temporal_range = []\n",
        "\n",
        "    def add_temporal_point(self, temporal_point: int):\n",
        "        if not isinstance(temporal_point, int):\n",
        "            raise Exception(\"temporal_point has to be int type\")\n",
        "\n",
        "        self.temporal_range.append(temporal_point)\n",
        "\n",
        "    def __str__(self):\n",
        "        return f\"{self.event}\""
      ]
    },
    {
      "cell_type": "code",
      "execution_count": null,
      "id": "bfcc3aba",
      "metadata": {
        "id": "bfcc3aba"
      },
      "outputs": [],
      "source": [
        "class TemporalGraph:\n",
        "    def __init__(self):\n",
        "        self.__events = dict()\n",
        "\n",
        "    def add_event(self, event: str, temporal_point=None):\n",
        "        if not self.check_event(event):\n",
        "            eventNode = GraphNode(event)\n",
        "            self.__events[eventNode] = []\n",
        "\n",
        "        if temporal_point is not None:\n",
        "              self.update_time(event, temporal_point)\n",
        "\n",
        "    def add_dependence(self, event1: str, event2: str):\n",
        "        if not self.check_event(event1):\n",
        "          raise Exception(\"Event1 doesn't exist\")\n",
        "        if not self.check_event(event2):\n",
        "            raise Exception(\"Event2 doesn't exist\")\n",
        "\n",
        "        eventNode1, eventNode2 = self.get_event(event1), self.get_event(event2)\n",
        "        self.__events[eventNode1].append(eventNode2)\n",
        "\n",
        "    def get_event(self, event: str):\n",
        "        for eventNode in self.__events:\n",
        "            if str(eventNode) == event:\n",
        "                return eventNode\n",
        "        else:\n",
        "            raise Exception(\"Node doesn't exist\")\n",
        "\n",
        "    def check_event(self, event: str):\n",
        "        return any([str(eventNode) == event for eventNode in self.__events])\n",
        "\n",
        "    def update_time(self, event:str, temporal_point):\n",
        "        for eventNode in self.__events:\n",
        "            if str(eventNode) == event:\n",
        "                if isinstance(temporal_point, Interval):\n",
        "                    eventNode.add_temporal_point(temporal_point.diff())\n",
        "                else:\n",
        "                    eventNode.add_temporal_point(temporal_point)\n",
        "                break\n",
        "        else:\n",
        "            raise Exception(\"Node doesn't exist\")\n",
        "\n",
        "    def __str__(self):\n",
        "        s = \"\"\n",
        "        for i in self.__events:\n",
        "            s+= f\"{i} : {i.temporal_range} : {[str(j) for j in self.__events[i]]}\\n\"\n",
        "        return s"
      ]
    },
    {
      "cell_type": "code",
      "source": [
        "dataset_folder_path = '/content/drive/MyDrive/Temporal Chatbot BTP/BTP Datasets'"
      ],
      "metadata": {
        "id": "CEvEtAysSVNk"
      },
      "id": "CEvEtAysSVNk",
      "execution_count": null,
      "outputs": []
    },
    {
      "cell_type": "code",
      "source": [
        "with open(os.path.join(dataset_folder_path, 'temporal_ordering1.json'), 'r') as f:\n",
        "  temporal_ordering_data = json.load(f)"
      ],
      "metadata": {
        "id": "6Vaeo_eGUkAe"
      },
      "id": "6Vaeo_eGUkAe",
      "execution_count": null,
      "outputs": []
    },
    {
      "cell_type": "code",
      "source": [
        "temporal_ordering_data[\"0\"]"
      ],
      "metadata": {
        "colab": {
          "base_uri": "https://localhost:8080/"
        },
        "id": "Zot2unCSVQ-z",
        "outputId": "0932cbdf-6a02-447b-e1c6-50dd38c11ab3"
      },
      "id": "Zot2unCSVQ-z",
      "execution_count": null,
      "outputs": [
        {
          "output_type": "execute_result",
          "data": {
            "text/plain": [
              "[{'event': 'woke up', 'time': '7 am', 'value': ['XXXX-XX-XXT07:00']},\n",
              " {'event': 'saw Susan driving to the water park',\n",
              "  'time': '7 am to 11 am',\n",
              "  'value': ['XXXX-XX-XXT07:00', 'XXXX-XX-XXT11:00']},\n",
              " {'event': 'saw Susan buying clothes',\n",
              "  'time': '11 am to 12 pm',\n",
              "  'value': ['XXXX-XX-XXT11:00', 'XXXX-XX-XXT24:00']},\n",
              " {'event': 'saw Susan taking photos',\n",
              "  'time': '12 pm to 1 pm',\n",
              "  'value': ['XXXX-XX-XXT24:00', 'XXXX-XX-XXT13:00']},\n",
              " {'event': 'saw Susan buying lunch',\n",
              "  'time': '1 pm to 2 pm',\n",
              "  'value': ['XXXX-XX-XXT13:00', 'XXXX-XX-XXT14:00']},\n",
              " {'event': 'saw Susan reading at the library',\n",
              "  'time': '2 pm to 6 pm',\n",
              "  'value': ['XXXX-XX-XXT14:00', 'XXXX-XX-XXT18:00']},\n",
              " {'event': 'was closed after', 'time': '9 pm', 'value': ['XXXX-XX-XXT21:00']}]"
            ]
          },
          "metadata": {},
          "execution_count": 168
        }
      ]
    },
    {
      "cell_type": "code",
      "source": [
        "overall_pattern = r\"[0-9X]+-[0-9X]+-[0-9X]+T[0-9]+:[0-9]+\"\n",
        "year = r\"[0-9X][0-9X][0-9X][0-9X]\"\n",
        "month = r\"-[0-9X][0-9X]-\"\n",
        "day = r\"[0-9X][0-9X]\"\n",
        "hour = r\"T[0-9][0-9]:\"\n",
        "minute = r\"[0-9][0-9]\""
      ],
      "metadata": {
        "id": "nE_28nJEVcMa"
      },
      "id": "nE_28nJEVcMa",
      "execution_count": null,
      "outputs": []
    },
    {
      "cell_type": "code",
      "source": [
        "for event_id in temporal_ordering_data:\n",
        "    events = temporal_ordering_data[event_id]\n",
        "    for event in events:\n",
        "        values = event['values']\n",
        "        for value in values:\n",
        "            years = re.findall(year, value)\n",
        "            if years[0]=='XXXX':  # no year mentioned\n",
        "\n",
        "            else:\n",
        "\n",
        "            months = re.findall(month, value)\n",
        "            if months[0] == 'XX':  # no month mentioned\n",
        "\n",
        "            else:\n",
        "\n",
        "            days = re.findall(day, value)\n",
        "            if days[0] == 'XX':  # no day mentioned\n",
        "\n",
        "            else:\n",
        "\n",
        "            hours = re.findall(hour, value)\n",
        "            minutes = re.findall(minute, value)"
      ],
      "metadata": {
        "id": "QuB8j-IfVl1v"
      },
      "id": "QuB8j-IfVl1v",
      "execution_count": null,
      "outputs": []
    }
  ],
  "metadata": {
    "kernelspec": {
      "display_name": "Python 3 (ipykernel)",
      "language": "python",
      "name": "python3"
    },
    "language_info": {
      "codemirror_mode": {
        "name": "ipython",
        "version": 3
      },
      "file_extension": ".py",
      "mimetype": "text/x-python",
      "name": "python",
      "nbconvert_exporter": "python",
      "pygments_lexer": "ipython3",
      "version": "3.8.10"
    },
    "colab": {
      "provenance": []
    }
  },
  "nbformat": 4,
  "nbformat_minor": 5
}
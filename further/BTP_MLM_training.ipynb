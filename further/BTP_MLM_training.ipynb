{
  "cells": [
    {
      "cell_type": "markdown",
      "source": [
        "## First Draft\n",
        "Just basic setup\n",
        "\n",
        "## Second Draft\n",
        "Appropriate Prompting\n",
        "\n",
        "## Third Draft\n",
        "Shuffled Dataset"
      ],
      "metadata": {
        "id": "462Ri7P3jyWr"
      }
    },
    {
      "cell_type": "markdown",
      "metadata": {
        "id": "tLb74RdTAUIe"
      },
      "source": [
        "# Setup"
      ]
    },
    {
      "cell_type": "code",
      "execution_count": null,
      "metadata": {
        "id": "a9BS0syAa6FY"
      },
      "outputs": [],
      "source": [
        "!pip install transformers torch datasets evaluate"
      ]
    },
    {
      "cell_type": "code",
      "execution_count": null,
      "metadata": {
        "id": "JDqcsRJZbqTC"
      },
      "outputs": [],
      "source": [
        "import random\n",
        "import math\n",
        "from transformers import BertForMaskedLM, BertTokenizer, RobertaForMaskedLM, RobertaTokenizer, DistilBertForMaskedLM, DistilBertTokenizer, DataCollatorForLanguageModeling, Trainer, TrainingArguments\n",
        "import torch\n",
        "import json\n",
        "from datasets import Dataset\n",
        "import evaluate\n",
        "import os\n",
        "import numpy as np\n",
        "import shutil\n",
        "import copy"
      ]
    },
    {
      "cell_type": "code",
      "source": [
        "from google.colab import drive\n",
        "drive.mount('/content/drive', force_remount=True)"
      ],
      "metadata": {
        "colab": {
          "base_uri": "https://localhost:8080/"
        },
        "id": "CrP4qb_4aakZ",
        "outputId": "71aefca4-d11f-4de9-8317-8f851dbb6de2"
      },
      "execution_count": null,
      "outputs": [
        {
          "output_type": "stream",
          "name": "stdout",
          "text": [
            "Mounted at /content/drive\n"
          ]
        }
      ]
    },
    {
      "cell_type": "code",
      "source": [
        "from google.colab import userdata\n",
        "# os.environ[\"HUGGINGFACE_API_TOKEN\"] = userdata.get('BTP_HF_TOKEN')"
      ],
      "metadata": {
        "id": "EGCJMoDxo89u"
      },
      "execution_count": null,
      "outputs": []
    },
    {
      "cell_type": "markdown",
      "metadata": {
        "id": "wN5vPrMZ_--L"
      },
      "source": [
        "# Model choices"
      ]
    },
    {
      "cell_type": "code",
      "execution_count": null,
      "metadata": {
        "id": "Hq2j_oVjbVQG"
      },
      "outputs": [],
      "source": [
        "bert_base = \"google-bert/bert-base-uncased\"\n",
        "roberta_base = \"FacebookAI/roberta-base\"\n",
        "distilbert_base = \"distilbert/distilbert-base-uncased\""
      ]
    },
    {
      "cell_type": "code",
      "source": [
        "bert_model = BertForMaskedLM.from_pretrained(\"/content/drive/MyDrive/Temporal Chatbot BTP/mlm models/first_draft/bert_trained_model_draft1\")\n",
        "bert_tokenizer = BertTokenizer.from_pretrained(\"/content/drive/MyDrive/Temporal Chatbot BTP/mlm models/first_draft/bert_trained_model_draft1\")\n",
        "\n",
        "# roberta_model = RobertaForMaskedLM.from_pretrained(\"/content/drive/MyDrive/Temporal Chatbot BTP/mlm models/first_draft/roberta_trained_model_draft1\")\n",
        "# roberta_tokenizer = RobertaTokenizer.from_pretrained(\"/content/drive/MyDrive/Temporal Chatbot BTP/mlm models/first_draft/roberta_trained_model_draft1\")\n",
        "\n",
        "# distilbert_model = DistilBertForMaskedLM.from_pretrained(\"/content/drive/MyDrive/Temporal Chatbot BTP/mlm models/first_draft/distilbert_trained_model_draft1\")\n",
        "# distilbert_tokenizer = DistilBertTokenizer.from_pretrained(\"/content/drive/MyDrive/Temporal Chatbot BTP/mlm models/first_draft/distilbert_trained_model_draft1\")"
      ],
      "metadata": {
        "id": "LQqAFDhW5tkT"
      },
      "execution_count": null,
      "outputs": []
    },
    {
      "cell_type": "code",
      "execution_count": null,
      "metadata": {
        "id": "URULm6IYgKeZ"
      },
      "outputs": [],
      "source": [
        "# bert_model = BertForMaskedLM.from_pretrained(\"google-bert/bert-base-uncased\")\n",
        "# bert_tokenizer = BertTokenizer.from_pretrained(\"google-bert/bert-base-uncased\")\n",
        "\n",
        "# roberta_model = RobertaForMaskedLM.from_pretrained(\"FacebookAI/roberta-base\")\n",
        "# roberta_tokenizer = RobertaTokenizer.from_pretrained(\"FacebookAI/roberta-base\")\n",
        "\n",
        "# distilbert_model = DistilBertForMaskedLM.from_pretrained(\"distilbert/distilbert-base-uncased\")\n",
        "# distilbert_tokenizer = DistilBertTokenizer.from_pretrained(\"distilbert/distilbert-base-uncased\")"
      ]
    },
    {
      "cell_type": "code",
      "source": [
        "bert_model = bert_model.to(\"cuda\")\n",
        "# roberta_model = roberta_model.to(\"cuda\")\n",
        "# distilbert_model = distilbert_model.to(\"cuda\")\n",
        "bert_data_collator = DataCollatorForLanguageModeling(tokenizer=bert_tokenizer, mlm=True, mlm_probability=0.15)\n",
        "# roberta_data_collator = DataCollatorForLanguageModeling(tokenizer=roberta_tokenizer, mlm=True, mlm_probability=0.15)\n",
        "# distilbert_data_collator = DataCollatorForLanguageModeling(tokenizer=distilbert_tokenizer, mlm=True, mlm_probability=0.15)"
      ],
      "metadata": {
        "id": "1BFYv0pToYDZ"
      },
      "execution_count": null,
      "outputs": []
    },
    {
      "cell_type": "code",
      "execution_count": null,
      "metadata": {
        "id": "McdPa0lRexq5"
      },
      "outputs": [],
      "source": [
        "def mask_model_language(model, tokenizer):\n",
        "  def masked_prediction(sentence, top_k=5):\n",
        "    # Tokenize the input text and identify the masked token's position\n",
        "    inputs = tokenizer(sentence, return_tensors=\"pt\")\n",
        "    mask_token_index = torch.where(inputs[\"input_ids\"] == tokenizer.mask_token_id)[1]\n",
        "    # Get model outputs\n",
        "    with torch.no_grad():\n",
        "        outputs = model(**inputs)\n",
        "\n",
        "    # The prediction logits for the masked tokens\n",
        "    logits = outputs.logits\n",
        "\n",
        "    # Get the predictions for the masked position\n",
        "    mask_token_logits = logits[0, mask_token_index, :]\n",
        "    top_5_tokens = torch.topk(mask_token_logits, top_k, dim=1).indices[0].tolist()\n",
        "\n",
        "    # Convert token ids to words\n",
        "    predicted_words = [tokenizer.decode([token]) for token in top_5_tokens]\n",
        "\n",
        "    return predicted_words\n",
        "  return masked_prediction"
      ]
    },
    {
      "cell_type": "code",
      "execution_count": null,
      "metadata": {
        "id": "GiVJSroFfeBt"
      },
      "outputs": [],
      "source": [
        "bert_mask_prediction = mask_model_language(bert_model, bert_tokenizer)\n",
        "# roberta_mask_prediction = mask_model_language(roberta_model, roberta_tokenizer)\n",
        "# distilbert_mask_prediction = mask_model_language(distilbert_model, distilbert_tokenizer)"
      ]
    },
    {
      "cell_type": "code",
      "source": [
        "def model_prediction(model, tokenizer):\n",
        "    def predict(sentence):\n",
        "        inputs = tokenizer(sentence, return_tensors=\"pt\")\n",
        "        with torch.no_grad():\n",
        "            outputs = model(**inputs).logits\n",
        "        return [tokenizer.decode([token]) for token in torch.topk(outputs[0, :, :], len(outputs[0, :, :]), dim=1).indices[0].tolist()]\n",
        "    return predict"
      ],
      "metadata": {
        "id": "DeH_8psq-f0l"
      },
      "execution_count": null,
      "outputs": []
    },
    {
      "cell_type": "code",
      "source": [
        "bert_base_prediction = model_prediction(bert_model, bert_tokenizer)\n",
        "# roberta_base_prediction = model_prediction(roberta_model, roberta_tokenizer)\n",
        "# distilbert_base_prediction = model_prediction(distilbert_model, distilbert_tokenizer)"
      ],
      "metadata": {
        "id": "8h-rkVyv_Bco"
      },
      "execution_count": null,
      "outputs": []
    },
    {
      "cell_type": "markdown",
      "metadata": {
        "id": "iEl55yPbAErQ"
      },
      "source": [
        "# Dataset setup"
      ]
    },
    {
      "cell_type": "code",
      "source": [
        "system_prompt = \"\"\"I will be giving a sentence of the current event, its next event, its occurence time and its duration. One of these values would be masked, your task is to predict the masked token\\n\"\"\""
      ],
      "metadata": {
        "id": "kcjMAdg2Jsuq"
      },
      "execution_count": null,
      "outputs": []
    },
    {
      "cell_type": "code",
      "execution_count": null,
      "metadata": {
        "id": "4-w6QbXb35v7"
      },
      "outputs": [],
      "source": [
        "with open(\"/content/drive/MyDrive/Temporal Chatbot BTP/BTP Datasets/masked_dataset.json\", \"r\") as f:\n",
        "  masked_dataset = json.load(f)"
      ]
    },
    {
      "cell_type": "code",
      "execution_count": null,
      "metadata": {
        "id": "d2uiCsUp4MAW"
      },
      "outputs": [],
      "source": [
        "with open(\"/content/drive/MyDrive/Temporal Chatbot BTP/BTP Datasets/temp_temporal_graph_data1.json\", \"r\") as f:\n",
        "  new_dataset = json.load(f)"
      ]
    },
    {
      "cell_type": "code",
      "source": [
        "bert_masked = masked_dataset[\"bert_masked\"]\n",
        "random.shuffle(bert_masked)\n",
        "# roberta_masked = masked_dataset[\"roberta_masked\"]\n",
        "# random.shuffle(roberta_masked)\n",
        "# distilbert_masked = copy.deepcopy(masked_dataset[\"bert_masked\"])\n",
        "# random.shuffle(distilbert_masked)"
      ],
      "metadata": {
        "id": "ASq1dkyOGv2p"
      },
      "execution_count": null,
      "outputs": []
    },
    {
      "cell_type": "code",
      "source": [
        "train_bert_masked = bert_masked[:math.ceil(0.75 * len(bert_masked))]\n",
        "valid_bert_masked = bert_masked[math.ceil(0.75 * len(bert_masked)):math.ceil(0.75 * len(bert_masked)) + math.ceil(0.10 * len(bert_masked))]\n",
        "test_bert_masked = bert_masked[math.ceil(0.75 * len(bert_masked)) + math.ceil(0.10 * len(bert_masked)):]\n",
        "\n",
        "# train_roberta_masked = roberta_masked[:math.ceil(0.75 * len(roberta_masked))]\n",
        "# valid_roberta_masked = roberta_masked[math.ceil(0.75 * len(roberta_masked)):math.ceil(0.75 * len(roberta_masked)) + math.ceil(0.10 * len(roberta_masked))]\n",
        "# test_roberta_masked = roberta_masked[math.ceil(0.75 * len(roberta_masked)) + math.ceil(0.10 * len(roberta_masked)):]\n",
        "\n",
        "# train_distilbert_masked = distilbert_masked[:math.ceil(0.75 * len(distilbert_masked))]\n",
        "# valid_distilbert_masked = distilbert_masked[math.ceil(0.75 * len(distilbert_masked)):math.ceil(0.75 * len(distilbert_masked)) + math.ceil(0.10 * len(distilbert_masked))]\n",
        "# test_distilbert_masked = distilbert_masked[math.ceil(0.75 * len(distilbert_masked)) + math.ceil(0.10 * len(distilbert_masked)):]"
      ],
      "metadata": {
        "id": "S8Z6adfGG6sG"
      },
      "execution_count": null,
      "outputs": []
    },
    {
      "cell_type": "code",
      "execution_count": null,
      "metadata": {
        "id": "9uieAEN06Rsw"
      },
      "outputs": [],
      "source": [
        "train_bert_masked_dataset = Dataset.from_list(train_bert_masked)\n",
        "valid_bert_masked_dataset = Dataset.from_list(valid_bert_masked)\n",
        "test_bert_masked_dataset = Dataset.from_list(test_bert_masked)\n",
        "\n",
        "# train_roberta_masked_dataset = Dataset.from_list(train_roberta_masked)\n",
        "# valid_roberta_masked_dataset = Dataset.from_list(valid_roberta_masked)\n",
        "# test_roberta_masked_dataset = Dataset.from_list(test_roberta_masked)\n",
        "\n",
        "# train_distilbert_masked_dataset = Dataset.from_list(train_distilbert_masked)\n",
        "# valid_distilbert_masked_dataset = Dataset.from_list(valid_distilbert_masked)\n",
        "# test_distilbert_masked_dataset = Dataset.from_list(test_distilbert_masked)"
      ]
    },
    {
      "cell_type": "code",
      "source": [
        "def f(example, tokenizer):\n",
        "    sentence = system_prompt + example['sentence']\n",
        "    label = example['mask_value']\n",
        "\n",
        "    # Tokenize sentence and label, ensuring flat structure\n",
        "    inputs = tokenizer(sentence, truncation=True, padding='max_length', max_length=512, return_tensors=None)\n",
        "    labels = tokenizer(label, truncation=True, padding='max_length', max_length=512, return_tensors=None)[\"input_ids\"]\n",
        "\n",
        "    # Add the labels as a flat list of token IDs\n",
        "    inputs['labels'] = labels\n",
        "\n",
        "    return inputs"
      ],
      "metadata": {
        "id": "QnA8RsAB8f3Z"
      },
      "execution_count": null,
      "outputs": []
    },
    {
      "cell_type": "code",
      "execution_count": null,
      "metadata": {
        "id": "8rS3Apbm6ivk",
        "colab": {
          "base_uri": "https://localhost:8080/",
          "height": 133,
          "referenced_widgets": [
            "0d52a57e6bca4887baafaa37f2a116a6",
            "b8e45f1205034ecdab752d5bd8c7cc7c",
            "0b2ace8a309745e79073b0b65464fe77",
            "dc7ef13e16e84f3d99f5202e2541c3a1",
            "76c7bee670d449c983aaf8b1eb71c7f0",
            "2561a73a36774dfc8688109c1059458b",
            "854648164da54e01802f4811ff049c14",
            "f0f6f725edaf4f80a879943f6833c800",
            "7426260629ec4cb4a078fd9fe0d756f2",
            "a33ab6b6f27f4c89a7919b6d38b44d0b",
            "c39f8d885b0a40399941fcfb137b4d1a",
            "def645c16ee94255a5057fbd53d1f654",
            "61b4b8e6c9084bb6855fefb32270683b",
            "b01d29b07d8f4b4baf29167b594bda63",
            "0327cbea79b8409583d2d4562ccf3444",
            "24fb12439336450cba236fcc240e1d48",
            "9a00cf5e0fe147c892ab7b6b7a6959e4",
            "9fbf68392e614578b86ede9fc019ceb1",
            "a96871231c0e4ec6b5cd40dfc58a7167",
            "06a1ace0bd084323a5a1d2d6d1d82b4f",
            "32c6581f7853445bbfdddf77366424e8",
            "48f40556ccc94eedbeb6b910028d8bb5",
            "9dff82c5e67a4621a624d705f97105e8",
            "3b5457cb798740ce869798f56c013a71",
            "fd8b5d7d974148058862c36af38924be",
            "4d1781f18fd54506a3cfc651e2b8a225",
            "fbcb69605c444b7eba22e5ed061b718e",
            "1228f491fb274b67a916726c021e0cc1",
            "5210f78df9d14788a5b4eb81ca6cfda9",
            "7723852cfd8f4749904a290df8b8698f",
            "79303c21b6e54f8d87aee8caec5a0deb",
            "293953ec7a65468da52d245db00e66da",
            "f16082ac97404a8fb02bc2f17176aafd"
          ]
        },
        "outputId": "2343597c-fec0-4699-d713-e3e81eccf538"
      },
      "outputs": [
        {
          "output_type": "display_data",
          "data": {
            "text/plain": [
              "Map:   0%|          | 0/1614 [00:00<?, ? examples/s]"
            ],
            "application/vnd.jupyter.widget-view+json": {
              "version_major": 2,
              "version_minor": 0,
              "model_id": "0d52a57e6bca4887baafaa37f2a116a6"
            }
          },
          "metadata": {}
        },
        {
          "output_type": "display_data",
          "data": {
            "text/plain": [
              "Map:   0%|          | 0/216 [00:00<?, ? examples/s]"
            ],
            "application/vnd.jupyter.widget-view+json": {
              "version_major": 2,
              "version_minor": 0,
              "model_id": "def645c16ee94255a5057fbd53d1f654"
            }
          },
          "metadata": {}
        },
        {
          "output_type": "display_data",
          "data": {
            "text/plain": [
              "Map:   0%|          | 0/322 [00:00<?, ? examples/s]"
            ],
            "application/vnd.jupyter.widget-view+json": {
              "version_major": 2,
              "version_minor": 0,
              "model_id": "9dff82c5e67a4621a624d705f97105e8"
            }
          },
          "metadata": {}
        }
      ],
      "source": [
        "train_bert_masked_dataset1 = train_bert_masked_dataset.map(lambda x: f(x, bert_tokenizer), batched=False).remove_columns(['sentence', 'mask_value'])\n",
        "valid_bert_masked_dataset1 = valid_bert_masked_dataset.map(lambda x: f(x, bert_tokenizer), batched=False).remove_columns(['sentence', 'mask_value'])\n",
        "test_bert_masked_dataset1 = test_bert_masked_dataset.map(lambda x: f(x, bert_tokenizer), batched=False).remove_columns(['sentence', 'mask_value'])\n",
        "\n",
        "# train_roberta_masked_dataset1 = train_roberta_masked_dataset.map(lambda x: f(x, roberta_tokenizer), batched=False).remove_columns(['sentence', 'mask_value'])\n",
        "# valid_roberta_masked_dataset1 = valid_roberta_masked_dataset.map(lambda x: f(x, roberta_tokenizer), batched=False).remove_columns(['sentence', 'mask_value'])\n",
        "# test_roberta_masked_dataset1 = test_roberta_masked_dataset.map(lambda x: f(x, roberta_tokenizer), batched=False).remove_columns(['sentence', 'mask_value'])\n",
        "\n",
        "# train_distilbert_masked_dataset1 = train_distilbert_masked_dataset.map(lambda x: f(x, distilbert_tokenizer), batched=False).remove_columns(['sentence', 'mask_value'])\n",
        "# valid_distilbert_masked_dataset1 = valid_distilbert_masked_dataset.map(lambda x: f(x, distilbert_tokenizer), batched=False).remove_columns(['sentence', 'mask_value'])\n",
        "# test_distilbert_masked_dataset1 = test_distilbert_masked_dataset.map(lambda x: f(x, distilbert_tokenizer), batched=False).remove_columns(['sentence', 'mask_value'])"
      ]
    },
    {
      "cell_type": "markdown",
      "source": [
        "# Accuracy"
      ],
      "metadata": {
        "id": "FtIPL0USqpcv"
      }
    },
    {
      "cell_type": "code",
      "source": [
        "accuracy_metric = evaluate.load(\"accuracy\")\n",
        "\n",
        "def compute_accuracy(eval_pred):\n",
        "    logits, labels = eval_pred\n",
        "    predictions = np.argmax(logits, axis=-1)  # Get predicted token IDs\n",
        "\n",
        "    # Only consider non-padding tokens in labels\n",
        "    mask = labels != -100  # Mask for ignoring -100 labels\n",
        "\n",
        "    # Calculate accuracy only where mask is True\n",
        "    accuracy = accuracy_metric.compute(predictions=predictions[mask], references=labels[mask])\n",
        "    return accuracy"
      ],
      "metadata": {
        "colab": {
          "base_uri": "https://localhost:8080/",
          "height": 69,
          "referenced_widgets": [
            "cad0b1a0d23e44a08e7594ea0f0fb1a3",
            "3ada462d1f7e444f9fd9712dafbced68",
            "58a31a3ad09749718b6048324ea2f378",
            "fa8355982ba949ae81af889a6676c24f",
            "2e9b519717624b44a39b3004de97d910",
            "9c9efc3a337441d4835ebb72a401cb67",
            "f94f6702f7a44ac2a6f65dacec8afce0",
            "787fc2bfac504feab1c74a9ac994b114",
            "51ee8f37ea0148a6a78d1be5b561522f",
            "c88a6efe2f4e4b3baff2df8e2734b297",
            "74df07c521fd4d9c92b7a9ce045fdb88"
          ]
        },
        "id": "0XMGMimYqrBK",
        "outputId": "57bad269-e5c7-4ef0-c3ef-dce76c0a04fa"
      },
      "execution_count": null,
      "outputs": [
        {
          "output_type": "display_data",
          "data": {
            "text/plain": [
              "Downloading builder script:   0%|          | 0.00/4.20k [00:00<?, ?B/s]"
            ],
            "application/vnd.jupyter.widget-view+json": {
              "version_major": 2,
              "version_minor": 0,
              "model_id": "cad0b1a0d23e44a08e7594ea0f0fb1a3"
            }
          },
          "metadata": {}
        }
      ]
    },
    {
      "cell_type": "markdown",
      "metadata": {
        "id": "BUl1xbtAAK5f"
      },
      "source": [
        "# Training"
      ]
    },
    {
      "cell_type": "code",
      "execution_count": null,
      "metadata": {
        "id": "2t-__EMkALw5",
        "colab": {
          "base_uri": "https://localhost:8080/"
        },
        "outputId": "5d874418-3b64-4f00-963e-49d5d2b649dc"
      },
      "outputs": [
        {
          "output_type": "stream",
          "name": "stderr",
          "text": [
            "/usr/local/lib/python3.10/dist-packages/transformers/training_args.py:1525: FutureWarning: `evaluation_strategy` is deprecated and will be removed in version 4.46 of 🤗 Transformers. Use `eval_strategy` instead\n",
            "  warnings.warn(\n"
          ]
        }
      ],
      "source": [
        "training_args = TrainingArguments(\n",
        "    output_dir=\"./results\",\n",
        "    evaluation_strategy=\"epoch\",\n",
        "    learning_rate=2e-5,\n",
        "    per_device_train_batch_size=8,\n",
        "    per_device_eval_batch_size=8,\n",
        "    num_train_epochs=3,\n",
        "    weight_decay=0.01,\n",
        "    remove_unused_columns=False,\n",
        "    save_strategy=\"epoch\",\n",
        "    logging_dir=\"./logs\",\n",
        "    logging_steps=10,\n",
        ")"
      ]
    },
    {
      "cell_type": "code",
      "execution_count": null,
      "metadata": {
        "id": "Z8Evo4Rv-Fnm"
      },
      "outputs": [],
      "source": [
        "# Initialize the Trainer\n",
        "bert_trainer = Trainer(\n",
        "    model=bert_model,\n",
        "    args=training_args,\n",
        "    train_dataset=train_bert_masked_dataset1,\n",
        "    eval_dataset=valid_bert_masked_dataset1,\n",
        "    data_collator=bert_data_collator,\n",
        "    compute_metrics=compute_accuracy  # Pass custom metric function\n",
        ")\n",
        "\n",
        "# roberta_trainer = Trainer(\n",
        "#     model=roberta_model,\n",
        "#     args=training_args,\n",
        "#     train_dataset=train_roberta_masked_dataset1,\n",
        "#     eval_dataset=valid_roberta_masked_dataset1,\n",
        "#     data_collator=roberta_data_collator,\n",
        "#     compute_metrics=compute_accuracy  # Pass custom metric function\n",
        "# )\n",
        "\n",
        "# distilbert_trainer = Trainer(\n",
        "#     model=distilbert_model,\n",
        "#     args=training_args,\n",
        "#     train_dataset=train_distilbert_masked_dataset1,\n",
        "#     eval_dataset=valid_distilbert_masked_dataset1,\n",
        "#     data_collator=distilbert_data_collator,\n",
        "#     compute_metrics=compute_accuracy  # Pass custom metric function\n",
        "# )"
      ]
    },
    {
      "cell_type": "code",
      "execution_count": null,
      "metadata": {
        "colab": {
          "base_uri": "https://localhost:8080/",
          "height": 744
        },
        "id": "Hq4sokqI_pBR",
        "outputId": "a0bb6d69-5315-4944-94a5-359fe5d26348"
      },
      "outputs": [
        {
          "output_type": "stream",
          "name": "stderr",
          "text": [
            "\u001b[34m\u001b[1mwandb\u001b[0m: \u001b[33mWARNING\u001b[0m The `run_name` is currently set to the same value as `TrainingArguments.output_dir`. If this was not intended, please specify a different run name by setting the `TrainingArguments.run_name` parameter.\n",
            "\u001b[34m\u001b[1mwandb\u001b[0m: Using wandb-core as the SDK backend. Please refer to https://wandb.me/wandb-core for more information.\n"
          ]
        },
        {
          "output_type": "display_data",
          "data": {
            "text/plain": [
              "<IPython.core.display.Javascript object>"
            ],
            "application/javascript": [
              "\n",
              "        window._wandbApiKey = new Promise((resolve, reject) => {\n",
              "            function loadScript(url) {\n",
              "            return new Promise(function(resolve, reject) {\n",
              "                let newScript = document.createElement(\"script\");\n",
              "                newScript.onerror = reject;\n",
              "                newScript.onload = resolve;\n",
              "                document.body.appendChild(newScript);\n",
              "                newScript.src = url;\n",
              "            });\n",
              "            }\n",
              "            loadScript(\"https://cdn.jsdelivr.net/npm/postmate/build/postmate.min.js\").then(() => {\n",
              "            const iframe = document.createElement('iframe')\n",
              "            iframe.style.cssText = \"width:0;height:0;border:none\"\n",
              "            document.body.appendChild(iframe)\n",
              "            const handshake = new Postmate({\n",
              "                container: iframe,\n",
              "                url: 'https://wandb.ai/authorize'\n",
              "            });\n",
              "            const timeout = setTimeout(() => reject(\"Couldn't auto authenticate\"), 5000)\n",
              "            handshake.then(function(child) {\n",
              "                child.on('authorize', data => {\n",
              "                    clearTimeout(timeout)\n",
              "                    resolve(data)\n",
              "                });\n",
              "            });\n",
              "            })\n",
              "        });\n",
              "    "
            ]
          },
          "metadata": {}
        },
        {
          "output_type": "stream",
          "name": "stderr",
          "text": [
            "\u001b[34m\u001b[1mwandb\u001b[0m: Logging into wandb.ai. (Learn how to deploy a W&B server locally: https://wandb.me/wandb-server)\n",
            "\u001b[34m\u001b[1mwandb\u001b[0m: You can find your API key in your browser here: https://wandb.ai/authorize\n",
            "wandb: Paste an API key from your profile and hit enter, or press ctrl+c to quit:"
          ]
        },
        {
          "name": "stdout",
          "output_type": "stream",
          "text": [
            " ··········\n"
          ]
        },
        {
          "output_type": "stream",
          "name": "stderr",
          "text": [
            "\u001b[34m\u001b[1mwandb\u001b[0m: Appending key for api.wandb.ai to your netrc file: /root/.netrc\n"
          ]
        },
        {
          "output_type": "display_data",
          "data": {
            "text/plain": [
              "<IPython.core.display.HTML object>"
            ],
            "text/html": [
              "Tracking run with wandb version 0.18.5"
            ]
          },
          "metadata": {}
        },
        {
          "output_type": "display_data",
          "data": {
            "text/plain": [
              "<IPython.core.display.HTML object>"
            ],
            "text/html": [
              "Run data is saved locally in <code>/content/wandb/run-20241106_123037-ko9euoqa</code>"
            ]
          },
          "metadata": {}
        },
        {
          "output_type": "display_data",
          "data": {
            "text/plain": [
              "<IPython.core.display.HTML object>"
            ],
            "text/html": [
              "Syncing run <strong><a href='https://wandb.ai/112101038-iit-palakkad/huggingface/runs/ko9euoqa' target=\"_blank\">./results</a></strong> to <a href='https://wandb.ai/112101038-iit-palakkad/huggingface' target=\"_blank\">Weights & Biases</a> (<a href='https://wandb.me/run' target=\"_blank\">docs</a>)<br/>"
            ]
          },
          "metadata": {}
        },
        {
          "output_type": "display_data",
          "data": {
            "text/plain": [
              "<IPython.core.display.HTML object>"
            ],
            "text/html": [
              " View project at <a href='https://wandb.ai/112101038-iit-palakkad/huggingface' target=\"_blank\">https://wandb.ai/112101038-iit-palakkad/huggingface</a>"
            ]
          },
          "metadata": {}
        },
        {
          "output_type": "display_data",
          "data": {
            "text/plain": [
              "<IPython.core.display.HTML object>"
            ],
            "text/html": [
              " View run at <a href='https://wandb.ai/112101038-iit-palakkad/huggingface/runs/ko9euoqa' target=\"_blank\">https://wandb.ai/112101038-iit-palakkad/huggingface/runs/ko9euoqa</a>"
            ]
          },
          "metadata": {}
        },
        {
          "output_type": "display_data",
          "data": {
            "text/plain": [
              "<IPython.core.display.HTML object>"
            ],
            "text/html": [
              "\n",
              "    <div>\n",
              "      \n",
              "      <progress value='606' max='606' style='width:300px; height:20px; vertical-align: middle;'></progress>\n",
              "      [606/606 09:58, Epoch 3/3]\n",
              "    </div>\n",
              "    <table border=\"1\" class=\"dataframe\">\n",
              "  <thead>\n",
              " <tr style=\"text-align: left;\">\n",
              "      <th>Epoch</th>\n",
              "      <th>Training Loss</th>\n",
              "      <th>Validation Loss</th>\n",
              "    </tr>\n",
              "  </thead>\n",
              "  <tbody>\n",
              "    <tr>\n",
              "      <td>1</td>\n",
              "      <td>0.612800</td>\n",
              "      <td>0.519147</td>\n",
              "    </tr>\n",
              "    <tr>\n",
              "      <td>2</td>\n",
              "      <td>0.418200</td>\n",
              "      <td>0.343464</td>\n",
              "    </tr>\n",
              "    <tr>\n",
              "      <td>3</td>\n",
              "      <td>0.415000</td>\n",
              "      <td>0.349412</td>\n",
              "    </tr>\n",
              "  </tbody>\n",
              "</table><p>"
            ]
          },
          "metadata": {}
        },
        {
          "output_type": "display_data",
          "data": {
            "text/plain": [
              "<IPython.core.display.HTML object>"
            ],
            "text/html": [
              "\n",
              "    <div>\n",
              "      \n",
              "      <progress value='606' max='606' style='width:300px; height:20px; vertical-align: middle;'></progress>\n",
              "      [606/606 11:19, Epoch 3/3]\n",
              "    </div>\n",
              "    <table border=\"1\" class=\"dataframe\">\n",
              "  <thead>\n",
              " <tr style=\"text-align: left;\">\n",
              "      <th>Epoch</th>\n",
              "      <th>Training Loss</th>\n",
              "      <th>Validation Loss</th>\n",
              "    </tr>\n",
              "  </thead>\n",
              "  <tbody>\n",
              "    <tr>\n",
              "      <td>1</td>\n",
              "      <td>0.509400</td>\n",
              "      <td>0.451250</td>\n",
              "    </tr>\n",
              "    <tr>\n",
              "      <td>2</td>\n",
              "      <td>0.349300</td>\n",
              "      <td>0.254422</td>\n",
              "    </tr>\n",
              "    <tr>\n",
              "      <td>3</td>\n",
              "      <td>0.310900</td>\n",
              "      <td>0.174481</td>\n",
              "    </tr>\n",
              "  </tbody>\n",
              "</table><p>"
            ]
          },
          "metadata": {}
        },
        {
          "output_type": "display_data",
          "data": {
            "text/plain": [
              "<IPython.core.display.HTML object>"
            ],
            "text/html": [
              "\n",
              "    <div>\n",
              "      \n",
              "      <progress value='606' max='606' style='width:300px; height:20px; vertical-align: middle;'></progress>\n",
              "      [606/606 05:53, Epoch 3/3]\n",
              "    </div>\n",
              "    <table border=\"1\" class=\"dataframe\">\n",
              "  <thead>\n",
              " <tr style=\"text-align: left;\">\n",
              "      <th>Epoch</th>\n",
              "      <th>Training Loss</th>\n",
              "      <th>Validation Loss</th>\n",
              "    </tr>\n",
              "  </thead>\n",
              "  <tbody>\n",
              "    <tr>\n",
              "      <td>1</td>\n",
              "      <td>0.581700</td>\n",
              "      <td>0.539111</td>\n",
              "    </tr>\n",
              "    <tr>\n",
              "      <td>2</td>\n",
              "      <td>0.390700</td>\n",
              "      <td>0.402517</td>\n",
              "    </tr>\n",
              "    <tr>\n",
              "      <td>3</td>\n",
              "      <td>0.334000</td>\n",
              "      <td>0.356099</td>\n",
              "    </tr>\n",
              "  </tbody>\n",
              "</table><p>"
            ]
          },
          "metadata": {}
        },
        {
          "output_type": "execute_result",
          "data": {
            "text/plain": [
              "TrainOutput(global_step=606, training_loss=0.5849329764300054, metrics={'train_runtime': 353.901, 'train_samples_per_second': 13.682, 'train_steps_per_second': 1.712, 'total_flos': 641861117816832.0, 'train_loss': 0.5849329764300054, 'epoch': 3.0})"
            ]
          },
          "metadata": {},
          "execution_count": 32
        }
      ],
      "source": [
        "bert_trainer.train()\n",
        "roberta_trainer.train()\n",
        "distilbert_trainer.train()"
      ]
    },
    {
      "cell_type": "code",
      "execution_count": null,
      "metadata": {
        "id": "Pt62kfJH_tEf",
        "colab": {
          "base_uri": "https://localhost:8080/"
        },
        "outputId": "36423361-6296-4c6b-e3bb-3195701e6bfb"
      },
      "outputs": [
        {
          "output_type": "execute_result",
          "data": {
            "text/plain": [
              "('/content/drive/MyDrive/Temporal Chatbot BTP/mlm models/third_draft/distilbert_trained_model_draft1/tokenizer_config.json',\n",
              " '/content/drive/MyDrive/Temporal Chatbot BTP/mlm models/third_draft/distilbert_trained_model_draft1/special_tokens_map.json',\n",
              " '/content/drive/MyDrive/Temporal Chatbot BTP/mlm models/third_draft/distilbert_trained_model_draft1/vocab.txt',\n",
              " '/content/drive/MyDrive/Temporal Chatbot BTP/mlm models/third_draft/distilbert_trained_model_draft1/added_tokens.json')"
            ]
          },
          "metadata": {},
          "execution_count": 33
        }
      ],
      "source": [
        "bert_trainer.save_model(\"/content/drive/MyDrive/Temporal Chatbot BTP/mlm models/third_draft/bert_trained_model_draft1\")\n",
        "bert_tokenizer.save_pretrained(\"/content/drive/MyDrive/Temporal Chatbot BTP/mlm models/third_draft/bert_trained_model_draft1\")\n",
        "\n",
        "roberta_trainer.save_model(\"/content/drive/MyDrive/Temporal Chatbot BTP/mlm models/third_draft/roberta_trained_model_draft1\")\n",
        "roberta_tokenizer.save_pretrained(\"/content/drive/MyDrive/Temporal Chatbot BTP/mlm models/third_draft/roberta_trained_model_draft1\")\n",
        "\n",
        "distilbert_trainer.save_model(\"/content/drive/MyDrive/Temporal Chatbot BTP/mlm models/third_draft/distilbert_trained_model_draft1\")\n",
        "distilbert_tokenizer.save_pretrained(\"/content/drive/MyDrive/Temporal Chatbot BTP/mlm models/third_draft/distilbert_trained_model_draft1\")"
      ]
    },
    {
      "cell_type": "code",
      "source": [
        "shutil.move(\"/content/logs\", \"/content/drive/MyDrive/Temporal Chatbot BTP/mlm models/third_draft/logs\")\n",
        "shutil.move(\"/content/results\", \"/content/drive/MyDrive/Temporal Chatbot BTP/mlm models/third_draft/results\")"
      ],
      "metadata": {
        "colab": {
          "base_uri": "https://localhost:8080/",
          "height": 57
        },
        "id": "rUA2BLfrDuPl",
        "outputId": "92243c80-79bf-48a7-8d8c-c3d3065721cf"
      },
      "execution_count": null,
      "outputs": [
        {
          "output_type": "execute_result",
          "data": {
            "text/plain": [
              "'/content/drive/MyDrive/Temporal Chatbot BTP/mlm models/third_draft/results'"
            ],
            "application/vnd.google.colaboratory.intrinsic+json": {
              "type": "string"
            }
          },
          "metadata": {},
          "execution_count": 34
        }
      ]
    },
    {
      "cell_type": "markdown",
      "source": [
        "# Testing"
      ],
      "metadata": {
        "id": "PoYS0TKkEYl0"
      }
    },
    {
      "cell_type": "code",
      "source": [
        "# Evaluate on the test dataset\n",
        "bert_test_results = bert_trainer.evaluate(test_bert_masked_dataset1)\n",
        "roberta_test_results = roberta_trainer.evaluate(test_roberta_masked_dataset1)\n",
        "distilbert_test_results = distilbert_trainer.evaluate(test_distilbert_masked_dataset1)\n",
        "\n",
        "print(\"Bert Test Results:\", bert_test_results)\n",
        "print(\"RoBerta Test Results:\", roberta_test_results)\n",
        "print(\"DistilBert Test Results:\", distilbert_test_results)"
      ],
      "metadata": {
        "colab": {
          "base_uri": "https://localhost:8080/",
          "height": 152
        },
        "id": "TVHqRqZtB4Jg",
        "outputId": "b970399c-bdbc-47c6-9b9e-3b52c3b094c0"
      },
      "execution_count": null,
      "outputs": [
        {
          "output_type": "display_data",
          "data": {
            "text/plain": [
              "<IPython.core.display.HTML object>"
            ],
            "text/html": [
              "\n",
              "    <div>\n",
              "      \n",
              "      <progress value='41' max='41' style='width:300px; height:20px; vertical-align: middle;'></progress>\n",
              "      [41/41 00:11]\n",
              "    </div>\n",
              "    "
            ]
          },
          "metadata": {}
        },
        {
          "output_type": "display_data",
          "data": {
            "text/plain": [
              "<IPython.core.display.HTML object>"
            ],
            "text/html": [
              "\n",
              "    <div>\n",
              "      \n",
              "      <progress value='41' max='41' style='width:300px; height:20px; vertical-align: middle;'></progress>\n",
              "      [41/41 00:12]\n",
              "    </div>\n",
              "    "
            ]
          },
          "metadata": {}
        },
        {
          "output_type": "display_data",
          "data": {
            "text/plain": [
              "<IPython.core.display.HTML object>"
            ],
            "text/html": [
              "\n",
              "    <div>\n",
              "      \n",
              "      <progress value='41' max='41' style='width:300px; height:20px; vertical-align: middle;'></progress>\n",
              "      [41/41 00:07]\n",
              "    </div>\n",
              "    "
            ]
          },
          "metadata": {}
        },
        {
          "output_type": "stream",
          "name": "stdout",
          "text": [
            "Bert Test Results: {'eval_loss': 0.26024556159973145, 'eval_runtime': 11.479, 'eval_samples_per_second': 28.051, 'eval_steps_per_second': 3.572, 'epoch': 3.0}\n",
            "RoBerta Test Results: {'eval_loss': 0.22452180087566376, 'eval_runtime': 12.9965, 'eval_samples_per_second': 24.776, 'eval_steps_per_second': 3.155, 'epoch': 3.0}\n",
            "DistilBert Test Results: {'eval_loss': 0.3959859609603882, 'eval_runtime': 7.7461, 'eval_samples_per_second': 41.57, 'eval_steps_per_second': 5.293, 'epoch': 3.0}\n"
          ]
        }
      ]
    },
    {
      "cell_type": "code",
      "source": [
        "import torch\n",
        "torch.cuda.empty_cache()"
      ],
      "metadata": {
        "id": "U1JXM9zYtIpZ"
      },
      "execution_count": null,
      "outputs": []
    },
    {
      "cell_type": "code",
      "source": [
        "bert_eval_results = bert_trainer.evaluate()\n",
        "# roberta_eval_results = roberta_trainer.evaluate()\n",
        "# distilbert_eval_results = distilbert_trainer.evaluate()\n",
        "\n",
        "print(f\"Validation Accuracy: {bert_eval_results['eval_accuracy']:.4f}\")\n",
        "# print(f\"Validation Accuracy: {roberta_eval_results['eval_accuracy']:.4f}\")\n",
        "# print(f\"Validation Accuracy: {distilbert_eval_results['eval_accuracy']:.4f}\")"
      ],
      "metadata": {
        "colab": {
          "base_uri": "https://localhost:8080/",
          "height": 501
        },
        "id": "SqXRwJWcrnIp",
        "outputId": "32e33b15-d4bc-460c-e2d5-509cacef95a9"
      },
      "execution_count": null,
      "outputs": [
        {
          "output_type": "display_data",
          "data": {
            "text/plain": [
              "<IPython.core.display.HTML object>"
            ],
            "text/html": [
              "\n",
              "    <div>\n",
              "      \n",
              "      <progress value='16' max='27' style='width:300px; height:20px; vertical-align: middle;'></progress>\n",
              "      [16/27 00:50 < 00:36, 0.30 it/s]\n",
              "    </div>\n",
              "    "
            ]
          },
          "metadata": {}
        },
        {
          "output_type": "error",
          "ename": "OutOfMemoryError",
          "evalue": "CUDA out of memory. Tried to allocate 2.79 GiB. GPU 0 has a total capacity of 14.75 GiB of which 2.05 GiB is free. Process 3665 has 12.70 GiB memory in use. Of the allocated memory 8.80 GiB is allocated by PyTorch, and 3.77 GiB is reserved by PyTorch but unallocated. If reserved but unallocated memory is large try setting PYTORCH_CUDA_ALLOC_CONF=expandable_segments:True to avoid fragmentation.  See documentation for Memory Management  (https://pytorch.org/docs/stable/notes/cuda.html#environment-variables)",
          "traceback": [
            "\u001b[0;31m---------------------------------------------------------------------------\u001b[0m",
            "\u001b[0;31mOutOfMemoryError\u001b[0m                          Traceback (most recent call last)",
            "\u001b[0;32m<ipython-input-26-ffac829f6cfb>\u001b[0m in \u001b[0;36m<cell line: 1>\u001b[0;34m()\u001b[0m\n\u001b[0;32m----> 1\u001b[0;31m \u001b[0mbert_eval_results\u001b[0m \u001b[0;34m=\u001b[0m \u001b[0mbert_trainer\u001b[0m\u001b[0;34m.\u001b[0m\u001b[0mevaluate\u001b[0m\u001b[0;34m(\u001b[0m\u001b[0;34m)\u001b[0m\u001b[0;34m\u001b[0m\u001b[0;34m\u001b[0m\u001b[0m\n\u001b[0m\u001b[1;32m      2\u001b[0m \u001b[0;31m# roberta_eval_results = roberta_trainer.evaluate()\u001b[0m\u001b[0;34m\u001b[0m\u001b[0;34m\u001b[0m\u001b[0m\n\u001b[1;32m      3\u001b[0m \u001b[0;31m# distilbert_eval_results = distilbert_trainer.evaluate()\u001b[0m\u001b[0;34m\u001b[0m\u001b[0;34m\u001b[0m\u001b[0m\n\u001b[1;32m      4\u001b[0m \u001b[0;34m\u001b[0m\u001b[0m\n\u001b[1;32m      5\u001b[0m \u001b[0mprint\u001b[0m\u001b[0;34m(\u001b[0m\u001b[0;34mf\"Validation Accuracy: {bert_eval_results['eval_accuracy']:.4f}\"\u001b[0m\u001b[0;34m)\u001b[0m\u001b[0;34m\u001b[0m\u001b[0;34m\u001b[0m\u001b[0m\n",
            "\u001b[0;32m/usr/local/lib/python3.10/dist-packages/transformers/trainer.py\u001b[0m in \u001b[0;36mevaluate\u001b[0;34m(self, eval_dataset, ignore_keys, metric_key_prefix)\u001b[0m\n\u001b[1;32m   3664\u001b[0m \u001b[0;34m\u001b[0m\u001b[0m\n\u001b[1;32m   3665\u001b[0m         \u001b[0meval_loop\u001b[0m \u001b[0;34m=\u001b[0m \u001b[0mself\u001b[0m\u001b[0;34m.\u001b[0m\u001b[0mprediction_loop\u001b[0m \u001b[0;32mif\u001b[0m \u001b[0mself\u001b[0m\u001b[0;34m.\u001b[0m\u001b[0margs\u001b[0m\u001b[0;34m.\u001b[0m\u001b[0muse_legacy_prediction_loop\u001b[0m \u001b[0;32melse\u001b[0m \u001b[0mself\u001b[0m\u001b[0;34m.\u001b[0m\u001b[0mevaluation_loop\u001b[0m\u001b[0;34m\u001b[0m\u001b[0;34m\u001b[0m\u001b[0m\n\u001b[0;32m-> 3666\u001b[0;31m         output = eval_loop(\n\u001b[0m\u001b[1;32m   3667\u001b[0m             \u001b[0meval_dataloader\u001b[0m\u001b[0;34m,\u001b[0m\u001b[0;34m\u001b[0m\u001b[0;34m\u001b[0m\u001b[0m\n\u001b[1;32m   3668\u001b[0m             \u001b[0mdescription\u001b[0m\u001b[0;34m=\u001b[0m\u001b[0;34m\"Evaluation\"\u001b[0m\u001b[0;34m,\u001b[0m\u001b[0;34m\u001b[0m\u001b[0;34m\u001b[0m\u001b[0m\n",
            "\u001b[0;32m/usr/local/lib/python3.10/dist-packages/transformers/trainer.py\u001b[0m in \u001b[0;36mevaluation_loop\u001b[0;34m(self, dataloader, description, prediction_loss_only, ignore_keys, metric_key_prefix)\u001b[0m\n\u001b[1;32m   3880\u001b[0m                 \u001b[0mlogits\u001b[0m \u001b[0;34m=\u001b[0m \u001b[0mself\u001b[0m\u001b[0;34m.\u001b[0m\u001b[0mgather_function\u001b[0m\u001b[0;34m(\u001b[0m\u001b[0;34m(\u001b[0m\u001b[0mlogits\u001b[0m\u001b[0;34m)\u001b[0m\u001b[0;34m)\u001b[0m\u001b[0;34m\u001b[0m\u001b[0;34m\u001b[0m\u001b[0m\n\u001b[1;32m   3881\u001b[0m                 \u001b[0;32mif\u001b[0m \u001b[0;32mnot\u001b[0m \u001b[0mself\u001b[0m\u001b[0;34m.\u001b[0m\u001b[0margs\u001b[0m\u001b[0;34m.\u001b[0m\u001b[0mbatch_eval_metrics\u001b[0m \u001b[0;32mor\u001b[0m \u001b[0mdescription\u001b[0m \u001b[0;34m==\u001b[0m \u001b[0;34m\"Prediction\"\u001b[0m\u001b[0;34m:\u001b[0m\u001b[0;34m\u001b[0m\u001b[0;34m\u001b[0m\u001b[0m\n\u001b[0;32m-> 3882\u001b[0;31m                     \u001b[0mall_preds\u001b[0m\u001b[0;34m.\u001b[0m\u001b[0madd\u001b[0m\u001b[0;34m(\u001b[0m\u001b[0mlogits\u001b[0m\u001b[0;34m)\u001b[0m\u001b[0;34m\u001b[0m\u001b[0;34m\u001b[0m\u001b[0m\n\u001b[0m\u001b[1;32m   3883\u001b[0m             \u001b[0;32mif\u001b[0m \u001b[0mlabels\u001b[0m \u001b[0;32mis\u001b[0m \u001b[0;32mnot\u001b[0m \u001b[0;32mNone\u001b[0m\u001b[0;34m:\u001b[0m\u001b[0;34m\u001b[0m\u001b[0;34m\u001b[0m\u001b[0m\n\u001b[1;32m   3884\u001b[0m                 \u001b[0mlabels\u001b[0m \u001b[0;34m=\u001b[0m \u001b[0mself\u001b[0m\u001b[0;34m.\u001b[0m\u001b[0mgather_function\u001b[0m\u001b[0;34m(\u001b[0m\u001b[0;34m(\u001b[0m\u001b[0mlabels\u001b[0m\u001b[0;34m)\u001b[0m\u001b[0;34m)\u001b[0m\u001b[0;34m\u001b[0m\u001b[0;34m\u001b[0m\u001b[0m\n",
            "\u001b[0;32m/usr/local/lib/python3.10/dist-packages/transformers/trainer_pt_utils.py\u001b[0m in \u001b[0;36madd\u001b[0;34m(self, tensors)\u001b[0m\n\u001b[1;32m    320\u001b[0m             \u001b[0mself\u001b[0m\u001b[0;34m.\u001b[0m\u001b[0mtensors\u001b[0m \u001b[0;34m=\u001b[0m \u001b[0mtensors\u001b[0m \u001b[0;32mif\u001b[0m \u001b[0mself\u001b[0m\u001b[0;34m.\u001b[0m\u001b[0mdo_nested_concat\u001b[0m \u001b[0;32melse\u001b[0m \u001b[0;34m[\u001b[0m\u001b[0mtensors\u001b[0m\u001b[0;34m]\u001b[0m\u001b[0;34m\u001b[0m\u001b[0;34m\u001b[0m\u001b[0m\n\u001b[1;32m    321\u001b[0m         \u001b[0;32melif\u001b[0m \u001b[0mself\u001b[0m\u001b[0;34m.\u001b[0m\u001b[0mdo_nested_concat\u001b[0m\u001b[0;34m:\u001b[0m\u001b[0;34m\u001b[0m\u001b[0;34m\u001b[0m\u001b[0m\n\u001b[0;32m--> 322\u001b[0;31m             \u001b[0mself\u001b[0m\u001b[0;34m.\u001b[0m\u001b[0mtensors\u001b[0m \u001b[0;34m=\u001b[0m \u001b[0mnested_concat\u001b[0m\u001b[0;34m(\u001b[0m\u001b[0mself\u001b[0m\u001b[0;34m.\u001b[0m\u001b[0mtensors\u001b[0m\u001b[0;34m,\u001b[0m \u001b[0mtensors\u001b[0m\u001b[0;34m,\u001b[0m \u001b[0mpadding_index\u001b[0m\u001b[0;34m=\u001b[0m\u001b[0mself\u001b[0m\u001b[0;34m.\u001b[0m\u001b[0mpadding_index\u001b[0m\u001b[0;34m)\u001b[0m\u001b[0;34m\u001b[0m\u001b[0;34m\u001b[0m\u001b[0m\n\u001b[0m\u001b[1;32m    323\u001b[0m         \u001b[0;32melse\u001b[0m\u001b[0;34m:\u001b[0m\u001b[0;34m\u001b[0m\u001b[0;34m\u001b[0m\u001b[0m\n\u001b[1;32m    324\u001b[0m             \u001b[0mself\u001b[0m\u001b[0;34m.\u001b[0m\u001b[0mtensors\u001b[0m\u001b[0;34m.\u001b[0m\u001b[0mappend\u001b[0m\u001b[0;34m(\u001b[0m\u001b[0mtensors\u001b[0m\u001b[0;34m)\u001b[0m\u001b[0;34m\u001b[0m\u001b[0;34m\u001b[0m\u001b[0m\n",
            "\u001b[0;32m/usr/local/lib/python3.10/dist-packages/transformers/trainer_pt_utils.py\u001b[0m in \u001b[0;36mnested_concat\u001b[0;34m(tensors, new_tensors, padding_index)\u001b[0m\n\u001b[1;32m    134\u001b[0m         \u001b[0;32mreturn\u001b[0m \u001b[0mtype\u001b[0m\u001b[0;34m(\u001b[0m\u001b[0mtensors\u001b[0m\u001b[0;34m)\u001b[0m\u001b[0;34m(\u001b[0m\u001b[0mnested_concat\u001b[0m\u001b[0;34m(\u001b[0m\u001b[0mt\u001b[0m\u001b[0;34m,\u001b[0m \u001b[0mn\u001b[0m\u001b[0;34m,\u001b[0m \u001b[0mpadding_index\u001b[0m\u001b[0;34m=\u001b[0m\u001b[0mpadding_index\u001b[0m\u001b[0;34m)\u001b[0m \u001b[0;32mfor\u001b[0m \u001b[0mt\u001b[0m\u001b[0;34m,\u001b[0m \u001b[0mn\u001b[0m \u001b[0;32min\u001b[0m \u001b[0mzip\u001b[0m\u001b[0;34m(\u001b[0m\u001b[0mtensors\u001b[0m\u001b[0;34m,\u001b[0m \u001b[0mnew_tensors\u001b[0m\u001b[0;34m)\u001b[0m\u001b[0;34m)\u001b[0m\u001b[0;34m\u001b[0m\u001b[0;34m\u001b[0m\u001b[0m\n\u001b[1;32m    135\u001b[0m     \u001b[0;32melif\u001b[0m \u001b[0misinstance\u001b[0m\u001b[0;34m(\u001b[0m\u001b[0mtensors\u001b[0m\u001b[0;34m,\u001b[0m \u001b[0mtorch\u001b[0m\u001b[0;34m.\u001b[0m\u001b[0mTensor\u001b[0m\u001b[0;34m)\u001b[0m\u001b[0;34m:\u001b[0m\u001b[0;34m\u001b[0m\u001b[0;34m\u001b[0m\u001b[0m\n\u001b[0;32m--> 136\u001b[0;31m         \u001b[0;32mreturn\u001b[0m \u001b[0mtorch_pad_and_concatenate\u001b[0m\u001b[0;34m(\u001b[0m\u001b[0mtensors\u001b[0m\u001b[0;34m,\u001b[0m \u001b[0mnew_tensors\u001b[0m\u001b[0;34m,\u001b[0m \u001b[0mpadding_index\u001b[0m\u001b[0;34m=\u001b[0m\u001b[0mpadding_index\u001b[0m\u001b[0;34m)\u001b[0m\u001b[0;34m\u001b[0m\u001b[0;34m\u001b[0m\u001b[0m\n\u001b[0m\u001b[1;32m    137\u001b[0m     \u001b[0;32melif\u001b[0m \u001b[0misinstance\u001b[0m\u001b[0;34m(\u001b[0m\u001b[0mtensors\u001b[0m\u001b[0;34m,\u001b[0m \u001b[0mMapping\u001b[0m\u001b[0;34m)\u001b[0m\u001b[0;34m:\u001b[0m\u001b[0;34m\u001b[0m\u001b[0;34m\u001b[0m\u001b[0m\n\u001b[1;32m    138\u001b[0m         return type(tensors)(\n",
            "\u001b[0;32m/usr/local/lib/python3.10/dist-packages/transformers/trainer_pt_utils.py\u001b[0m in \u001b[0;36mtorch_pad_and_concatenate\u001b[0;34m(tensor1, tensor2, padding_index)\u001b[0m\n\u001b[1;32m     92\u001b[0m \u001b[0;34m\u001b[0m\u001b[0m\n\u001b[1;32m     93\u001b[0m     \u001b[0;32mif\u001b[0m \u001b[0mlen\u001b[0m\u001b[0;34m(\u001b[0m\u001b[0mtensor1\u001b[0m\u001b[0;34m.\u001b[0m\u001b[0mshape\u001b[0m\u001b[0;34m)\u001b[0m \u001b[0;34m==\u001b[0m \u001b[0;36m1\u001b[0m \u001b[0;32mor\u001b[0m \u001b[0mtensor1\u001b[0m\u001b[0;34m.\u001b[0m\u001b[0mshape\u001b[0m\u001b[0;34m[\u001b[0m\u001b[0;36m1\u001b[0m\u001b[0;34m]\u001b[0m \u001b[0;34m==\u001b[0m \u001b[0mtensor2\u001b[0m\u001b[0;34m.\u001b[0m\u001b[0mshape\u001b[0m\u001b[0;34m[\u001b[0m\u001b[0;36m1\u001b[0m\u001b[0;34m]\u001b[0m\u001b[0;34m:\u001b[0m\u001b[0;34m\u001b[0m\u001b[0;34m\u001b[0m\u001b[0m\n\u001b[0;32m---> 94\u001b[0;31m         \u001b[0;32mreturn\u001b[0m \u001b[0mtorch\u001b[0m\u001b[0;34m.\u001b[0m\u001b[0mcat\u001b[0m\u001b[0;34m(\u001b[0m\u001b[0;34m(\u001b[0m\u001b[0mtensor1\u001b[0m\u001b[0;34m,\u001b[0m \u001b[0mtensor2\u001b[0m\u001b[0;34m)\u001b[0m\u001b[0;34m,\u001b[0m \u001b[0mdim\u001b[0m\u001b[0;34m=\u001b[0m\u001b[0;36m0\u001b[0m\u001b[0;34m)\u001b[0m\u001b[0;34m\u001b[0m\u001b[0;34m\u001b[0m\u001b[0m\n\u001b[0m\u001b[1;32m     95\u001b[0m \u001b[0;34m\u001b[0m\u001b[0m\n\u001b[1;32m     96\u001b[0m     \u001b[0;31m# Let's figure out the new shape\u001b[0m\u001b[0;34m\u001b[0m\u001b[0;34m\u001b[0m\u001b[0m\n",
            "\u001b[0;31mOutOfMemoryError\u001b[0m: CUDA out of memory. Tried to allocate 2.79 GiB. GPU 0 has a total capacity of 14.75 GiB of which 2.05 GiB is free. Process 3665 has 12.70 GiB memory in use. Of the allocated memory 8.80 GiB is allocated by PyTorch, and 3.77 GiB is reserved by PyTorch but unallocated. If reserved but unallocated memory is large try setting PYTORCH_CUDA_ALLOC_CONF=expandable_segments:True to avoid fragmentation.  See documentation for Memory Management  (https://pytorch.org/docs/stable/notes/cuda.html#environment-variables)"
          ]
        }
      ]
    },
    {
      "cell_type": "markdown",
      "metadata": {
        "id": "hwsQyYNc-DB4"
      },
      "source": [
        "# Preparing of dataset"
      ]
    },
    {
      "cell_type": "code",
      "execution_count": null,
      "metadata": {
        "id": "G2OVKS4aZslz"
      },
      "outputs": [],
      "source": [
        "# dataset_path1 = \"/content/drive/MyDrive/Temporal Chatbot BTP/BTP Datasets/temporal_ordering_changed2.json\"\n",
        "# dataset_path = \"/content/drive/MyDrive/Temporal Chatbot BTP/BTP Datasets/temp_temporal_graph_data.json\"\n",
        "# dataset_path2 = \"/content/drive/MyDrive/Temporal Chatbot BTP/BTP Datasets/temporal_ordering_split_changed.json\""
      ]
    },
    {
      "cell_type": "code",
      "execution_count": null,
      "metadata": {
        "id": "tbpziBvWZ1Aw"
      },
      "outputs": [],
      "source": [
        "# with open(dataset_path, \"r\") as f:\n",
        "#   dataset = json.load(f)"
      ]
    },
    {
      "cell_type": "code",
      "execution_count": null,
      "metadata": {
        "id": "rk3HyNEgf9aX"
      },
      "outputs": [],
      "source": [
        "# new_dataset = dict()\n",
        "# for i in dataset:\n",
        "#     new_dataset[i] = dict()\n",
        "#     for j in dataset[i]:\n",
        "#         new_dataset[i][j] = dataset[i][j] if j == 'ngbs' else {\"time_value\": dataset[i][j][0], \"time_duration\": dataset[i][j][1]}"
      ]
    },
    {
      "cell_type": "code",
      "execution_count": null,
      "metadata": {
        "id": "xzGOZBNhhoAJ"
      },
      "outputs": [],
      "source": [
        "# with open(\"/content/drive/MyDrive/Temporal Chatbot BTP/BTP Datasets/temp_temporal_graph_data1.json\", \"w\") as f:\n",
        "#   json.dump(new_dataset, f)"
      ]
    },
    {
      "cell_type": "code",
      "source": [
        "# with open('/content/drive/MyDrive/Temporal Chatbot BTP/BTP Datasets/temp_temporal_graph_data1.json', 'r') as f:\n",
        "#     new_dataset = json.load(f)"
      ],
      "metadata": {
        "id": "5NtL0axR_ZQZ"
      },
      "execution_count": null,
      "outputs": []
    },
    {
      "cell_type": "code",
      "execution_count": null,
      "metadata": {
        "id": "pyaNRU1Mi13B"
      },
      "outputs": [],
      "source": [
        "# lines = []\n",
        "# for current_event in new_dataset:\n",
        "#     current_line = f\"{current_event} -> \"\n",
        "#     next_events = new_dataset[current_event]['ngbs']\n",
        "#     for next_event in next_events:\n",
        "#         current_line += f\"{next_event}, \"\n",
        "#     for time_values in new_dataset[current_event]['time_point']:\n",
        "#         if time_values == 'time_value':\n",
        "#             current_line += f\": Time value = {new_dataset[current_event]['time_point'][time_values][1]} \"\n",
        "#         else:\n",
        "#             current_line += f\": Time duration = {new_dataset[current_event]['time_point'][time_values][1]} \"\n",
        "#     lines.append(current_line)"
      ]
    },
    {
      "cell_type": "markdown",
      "source": [
        "current event , next event, time point, time duration"
      ],
      "metadata": {
        "id": "Oh1qOpuEAzsG"
      }
    },
    {
      "cell_type": "code",
      "source": [
        "# bert_masked_curr_event_lines = []\n",
        "# for current_event in new_dataset:\n",
        "#     mask_value = current_event\n",
        "#     current_line = f\"Current Event: [MASK]; \"\n",
        "\n",
        "#     time_value = new_dataset[current_event]['time_point']['time_value'][1]\n",
        "#     current_line += f\"Time point: {time_value} minutes; \"\n",
        "\n",
        "#     time_duration = new_dataset[current_event]['time_point']['time_duration'][1]\n",
        "#     current_line += f\"Time duration: {time_duration} minutes; \"\n",
        "\n",
        "#     for next_event in new_dataset[current_event]['ngbs']:\n",
        "#         new_line = current_line + f\"Next event: {next_event}.\"\n",
        "#         current_data = {\n",
        "#             \"sentence\": new_line,\n",
        "#             \"mask_value\": mask_value\n",
        "#         }\n",
        "#         bert_masked_curr_event_lines.append(current_data)\n",
        "\n",
        "# bert_masked_time_values_lines = []\n",
        "# for current_event in new_dataset:\n",
        "#     current_line = f\"Current Event: {current_event}; \"\n",
        "\n",
        "#     mask_value = str(new_dataset[current_event]['time_point']['time_value'][1])\n",
        "#     current_line += f\"Time point: [MASK] minutes; \"\n",
        "\n",
        "#     time_duration = new_dataset[current_event]['time_point']['time_duration'][1]\n",
        "#     current_line += f\"Time duration: {time_duration} minutes; \"\n",
        "\n",
        "#     for next_event in new_dataset[current_event]['ngbs']:\n",
        "#         new_line = current_line + f\"Next event: {next_event}.\"\n",
        "#         current_data = {\n",
        "#             \"sentence\": new_line,\n",
        "#             \"mask_value\": mask_value\n",
        "#         }\n",
        "#         bert_masked_time_values_lines.append(current_data)\n",
        "\n",
        "# bert_masked_time_duration_lines = []\n",
        "# for current_event in new_dataset:\n",
        "#     current_line = f\"Current Event: {current_event}; \"\n",
        "\n",
        "#     time_value = new_dataset[current_event]['time_point']['time_value'][1]\n",
        "#     current_line += f\"Time point: {time_value} minutes; \"\n",
        "\n",
        "#     mask_value = str(new_dataset[current_event]['time_point']['time_duration'][1])\n",
        "#     current_line += f\"Time duration: [MASK] minutes; \"\n",
        "\n",
        "#     for next_event in new_dataset[current_event]['ngbs']:\n",
        "#         new_line = current_line + f\"Next event: {next_event}.\"\n",
        "#         current_data = {\n",
        "#             \"sentence\": new_line,\n",
        "#             \"mask_value\": mask_value\n",
        "#         }\n",
        "#         bert_masked_time_duration_lines.append(current_data)\n",
        "\n",
        "# bert_masked_next_event_lines = []\n",
        "# for current_event in new_dataset:\n",
        "#     current_line = f\"Current Event: {current_event}; \"\n",
        "\n",
        "#     time_value = new_dataset[current_event]['time_point']['time_value'][1]\n",
        "#     current_line += f\"Time point: {time_value} minutes; \"\n",
        "\n",
        "#     time_duration = new_dataset[current_event]['time_point']['time_duration'][1]\n",
        "#     current_line += f\"Time duration: {time_duration} minutes; \"\n",
        "\n",
        "#     for next_event in new_dataset[current_event]['ngbs']:\n",
        "#         mask_value = next_event\n",
        "#         new_line = current_line + f\"Next event: [MASK].\"\n",
        "#         current_data = {\n",
        "#             \"sentence\": new_line,\n",
        "#             \"mask_value\": mask_value\n",
        "#         }\n",
        "#         bert_masked_next_event_lines.append(current_data)"
      ],
      "metadata": {
        "id": "5hZwRPh4DByv"
      },
      "execution_count": null,
      "outputs": []
    },
    {
      "cell_type": "code",
      "source": [
        "# roberta_masked_curr_event_lines = []\n",
        "# for current_event in new_dataset:\n",
        "#     mask_value = current_event\n",
        "#     current_line = f\"Current Event: <mask>; \"\n",
        "\n",
        "#     time_value = new_dataset[current_event]['time_point']['time_value'][1]\n",
        "#     current_line += f\"Time point: {time_value} minutes; \"\n",
        "\n",
        "#     time_duration = new_dataset[current_event]['time_point']['time_duration'][1]\n",
        "#     current_line += f\"Time duration: {time_duration} minutes; \"\n",
        "\n",
        "#     for next_event in new_dataset[current_event]['ngbs']:\n",
        "#         new_line = current_line + f\"Next event: {next_event}.\"\n",
        "#         current_data = {\n",
        "#             \"sentence\": new_line,\n",
        "#             \"mask_value\": mask_value\n",
        "#         }\n",
        "#         roberta_masked_curr_event_lines.append(current_data)\n",
        "\n",
        "# roberta_masked_time_values_lines = []\n",
        "# for current_event in new_dataset:\n",
        "#     current_line = f\"Current Event: {current_event}; \"\n",
        "\n",
        "#     mask_value = str(new_dataset[current_event]['time_point']['time_value'][1])\n",
        "#     current_line += f\"Time point: <mask> minutes; \"\n",
        "\n",
        "#     time_duration = new_dataset[current_event]['time_point']['time_duration'][1]\n",
        "#     current_line += f\"Time duration: {time_duration} minutes; \"\n",
        "\n",
        "#     for next_event in new_dataset[current_event]['ngbs']:\n",
        "#         new_line = current_line + f\"Next event: {next_event}.\"\n",
        "#         current_data = {\n",
        "#             \"sentence\": new_line,\n",
        "#             \"mask_value\": mask_value\n",
        "#         }\n",
        "#         roberta_masked_time_values_lines.append(current_data)\n",
        "\n",
        "# roberta_masked_time_duration_lines = []\n",
        "# for current_event in new_dataset:\n",
        "#     current_line = f\"Current Event: {current_event}; \"\n",
        "\n",
        "#     time_value = new_dataset[current_event]['time_point']['time_value'][1]\n",
        "#     current_line += f\"Time point: {time_value} minutes; \"\n",
        "\n",
        "#     mask_value = str(new_dataset[current_event]['time_point']['time_duration'][1])\n",
        "#     current_line += f\"Time duration: <mask> minutes; \"\n",
        "\n",
        "#     for next_event in new_dataset[current_event]['ngbs']:\n",
        "#         new_line = current_line + f\"Next event: {next_event}.\"\n",
        "#         current_data = {\n",
        "#             \"sentence\": new_line,\n",
        "#             \"mask_value\": mask_value\n",
        "#         }\n",
        "#         roberta_masked_time_duration_lines.append(current_data)\n",
        "\n",
        "# roberta_masked_next_event_lines = []\n",
        "# for current_event in new_dataset:\n",
        "#     current_line = f\"Current Event: {current_event}; \"\n",
        "\n",
        "#     time_value = new_dataset[current_event]['time_point']['time_value'][1]\n",
        "#     current_line += f\"Time point: {time_value} minutes; \"\n",
        "\n",
        "#     time_duration = new_dataset[current_event]['time_point']['time_duration'][1]\n",
        "#     current_line += f\"Time duration: {time_duration} minutes; \"\n",
        "\n",
        "#     for next_event in new_dataset[current_event]['ngbs']:\n",
        "#         mask_value = next_event\n",
        "#         new_line = current_line + f\"Next event: <mask>.\"\n",
        "#         current_data = {\n",
        "#             \"sentence\": new_line,\n",
        "#             \"mask_value\": mask_value\n",
        "#         }\n",
        "#         roberta_masked_next_event_lines.append(current_data)"
      ],
      "metadata": {
        "id": "zs7hbAhBD78E"
      },
      "execution_count": null,
      "outputs": []
    },
    {
      "cell_type": "code",
      "source": [
        "# bert_masked_lines = bert_masked_curr_event_lines + bert_masked_time_values_lines + bert_masked_time_duration_lines + bert_masked_next_event_lines\n",
        "# roberta_masked_lines = roberta_masked_curr_event_lines + roberta_masked_time_values_lines + roberta_masked_time_duration_lines + roberta_masked_next_event_lines"
      ],
      "metadata": {
        "id": "HOdzk9yrEvVP"
      },
      "execution_count": null,
      "outputs": []
    },
    {
      "cell_type": "code",
      "source": [
        "# masked_dataset = {\n",
        "#     \"bert_masked\": bert_masked_lines,\n",
        "#     \"roberta_masked\": roberta_masked_lines\n",
        "# }"
      ],
      "metadata": {
        "id": "ePR7xgGZE2CT"
      },
      "execution_count": null,
      "outputs": []
    },
    {
      "cell_type": "code",
      "execution_count": null,
      "metadata": {
        "id": "PnS-U5Ksn-zt"
      },
      "outputs": [],
      "source": [
        "# with open(\"/content/drive/MyDrive/Temporal Chatbot BTP/BTP Datasets/masked_dataset.json\", \"w\") as f:\n",
        "#   json.dump(masked_dataset, f)"
      ]
    }
  ],
  "metadata": {
    "colab": {
      "collapsed_sections": [
        "tLb74RdTAUIe",
        "wN5vPrMZ_--L",
        "iEl55yPbAErQ",
        "BUl1xbtAAK5f",
        "PoYS0TKkEYl0",
        "hwsQyYNc-DB4"
      ],
      "provenance": []
    },
    "kernelspec": {
      "display_name": "Python 3",
      "name": "python3"
    },
    "language_info": {
      "name": "python"
    },
    "widgets": {
      "application/vnd.jupyter.widget-state+json": {
        "0d52a57e6bca4887baafaa37f2a116a6": {
          "model_module": "@jupyter-widgets/controls",
          "model_name": "HBoxModel",
          "model_module_version": "1.5.0",
          "state": {
            "_dom_classes": [],
            "_model_module": "@jupyter-widgets/controls",
            "_model_module_version": "1.5.0",
            "_model_name": "HBoxModel",
            "_view_count": null,
            "_view_module": "@jupyter-widgets/controls",
            "_view_module_version": "1.5.0",
            "_view_name": "HBoxView",
            "box_style": "",
            "children": [
              "IPY_MODEL_b8e45f1205034ecdab752d5bd8c7cc7c",
              "IPY_MODEL_0b2ace8a309745e79073b0b65464fe77",
              "IPY_MODEL_dc7ef13e16e84f3d99f5202e2541c3a1"
            ],
            "layout": "IPY_MODEL_76c7bee670d449c983aaf8b1eb71c7f0"
          }
        },
        "b8e45f1205034ecdab752d5bd8c7cc7c": {
          "model_module": "@jupyter-widgets/controls",
          "model_name": "HTMLModel",
          "model_module_version": "1.5.0",
          "state": {
            "_dom_classes": [],
            "_model_module": "@jupyter-widgets/controls",
            "_model_module_version": "1.5.0",
            "_model_name": "HTMLModel",
            "_view_count": null,
            "_view_module": "@jupyter-widgets/controls",
            "_view_module_version": "1.5.0",
            "_view_name": "HTMLView",
            "description": "",
            "description_tooltip": null,
            "layout": "IPY_MODEL_2561a73a36774dfc8688109c1059458b",
            "placeholder": "​",
            "style": "IPY_MODEL_854648164da54e01802f4811ff049c14",
            "value": "Map: 100%"
          }
        },
        "0b2ace8a309745e79073b0b65464fe77": {
          "model_module": "@jupyter-widgets/controls",
          "model_name": "FloatProgressModel",
          "model_module_version": "1.5.0",
          "state": {
            "_dom_classes": [],
            "_model_module": "@jupyter-widgets/controls",
            "_model_module_version": "1.5.0",
            "_model_name": "FloatProgressModel",
            "_view_count": null,
            "_view_module": "@jupyter-widgets/controls",
            "_view_module_version": "1.5.0",
            "_view_name": "ProgressView",
            "bar_style": "success",
            "description": "",
            "description_tooltip": null,
            "layout": "IPY_MODEL_f0f6f725edaf4f80a879943f6833c800",
            "max": 1614,
            "min": 0,
            "orientation": "horizontal",
            "style": "IPY_MODEL_7426260629ec4cb4a078fd9fe0d756f2",
            "value": 1614
          }
        },
        "dc7ef13e16e84f3d99f5202e2541c3a1": {
          "model_module": "@jupyter-widgets/controls",
          "model_name": "HTMLModel",
          "model_module_version": "1.5.0",
          "state": {
            "_dom_classes": [],
            "_model_module": "@jupyter-widgets/controls",
            "_model_module_version": "1.5.0",
            "_model_name": "HTMLModel",
            "_view_count": null,
            "_view_module": "@jupyter-widgets/controls",
            "_view_module_version": "1.5.0",
            "_view_name": "HTMLView",
            "description": "",
            "description_tooltip": null,
            "layout": "IPY_MODEL_a33ab6b6f27f4c89a7919b6d38b44d0b",
            "placeholder": "​",
            "style": "IPY_MODEL_c39f8d885b0a40399941fcfb137b4d1a",
            "value": " 1614/1614 [00:07&lt;00:00, 261.86 examples/s]"
          }
        },
        "76c7bee670d449c983aaf8b1eb71c7f0": {
          "model_module": "@jupyter-widgets/base",
          "model_name": "LayoutModel",
          "model_module_version": "1.2.0",
          "state": {
            "_model_module": "@jupyter-widgets/base",
            "_model_module_version": "1.2.0",
            "_model_name": "LayoutModel",
            "_view_count": null,
            "_view_module": "@jupyter-widgets/base",
            "_view_module_version": "1.2.0",
            "_view_name": "LayoutView",
            "align_content": null,
            "align_items": null,
            "align_self": null,
            "border": null,
            "bottom": null,
            "display": null,
            "flex": null,
            "flex_flow": null,
            "grid_area": null,
            "grid_auto_columns": null,
            "grid_auto_flow": null,
            "grid_auto_rows": null,
            "grid_column": null,
            "grid_gap": null,
            "grid_row": null,
            "grid_template_areas": null,
            "grid_template_columns": null,
            "grid_template_rows": null,
            "height": null,
            "justify_content": null,
            "justify_items": null,
            "left": null,
            "margin": null,
            "max_height": null,
            "max_width": null,
            "min_height": null,
            "min_width": null,
            "object_fit": null,
            "object_position": null,
            "order": null,
            "overflow": null,
            "overflow_x": null,
            "overflow_y": null,
            "padding": null,
            "right": null,
            "top": null,
            "visibility": null,
            "width": null
          }
        },
        "2561a73a36774dfc8688109c1059458b": {
          "model_module": "@jupyter-widgets/base",
          "model_name": "LayoutModel",
          "model_module_version": "1.2.0",
          "state": {
            "_model_module": "@jupyter-widgets/base",
            "_model_module_version": "1.2.0",
            "_model_name": "LayoutModel",
            "_view_count": null,
            "_view_module": "@jupyter-widgets/base",
            "_view_module_version": "1.2.0",
            "_view_name": "LayoutView",
            "align_content": null,
            "align_items": null,
            "align_self": null,
            "border": null,
            "bottom": null,
            "display": null,
            "flex": null,
            "flex_flow": null,
            "grid_area": null,
            "grid_auto_columns": null,
            "grid_auto_flow": null,
            "grid_auto_rows": null,
            "grid_column": null,
            "grid_gap": null,
            "grid_row": null,
            "grid_template_areas": null,
            "grid_template_columns": null,
            "grid_template_rows": null,
            "height": null,
            "justify_content": null,
            "justify_items": null,
            "left": null,
            "margin": null,
            "max_height": null,
            "max_width": null,
            "min_height": null,
            "min_width": null,
            "object_fit": null,
            "object_position": null,
            "order": null,
            "overflow": null,
            "overflow_x": null,
            "overflow_y": null,
            "padding": null,
            "right": null,
            "top": null,
            "visibility": null,
            "width": null
          }
        },
        "854648164da54e01802f4811ff049c14": {
          "model_module": "@jupyter-widgets/controls",
          "model_name": "DescriptionStyleModel",
          "model_module_version": "1.5.0",
          "state": {
            "_model_module": "@jupyter-widgets/controls",
            "_model_module_version": "1.5.0",
            "_model_name": "DescriptionStyleModel",
            "_view_count": null,
            "_view_module": "@jupyter-widgets/base",
            "_view_module_version": "1.2.0",
            "_view_name": "StyleView",
            "description_width": ""
          }
        },
        "f0f6f725edaf4f80a879943f6833c800": {
          "model_module": "@jupyter-widgets/base",
          "model_name": "LayoutModel",
          "model_module_version": "1.2.0",
          "state": {
            "_model_module": "@jupyter-widgets/base",
            "_model_module_version": "1.2.0",
            "_model_name": "LayoutModel",
            "_view_count": null,
            "_view_module": "@jupyter-widgets/base",
            "_view_module_version": "1.2.0",
            "_view_name": "LayoutView",
            "align_content": null,
            "align_items": null,
            "align_self": null,
            "border": null,
            "bottom": null,
            "display": null,
            "flex": null,
            "flex_flow": null,
            "grid_area": null,
            "grid_auto_columns": null,
            "grid_auto_flow": null,
            "grid_auto_rows": null,
            "grid_column": null,
            "grid_gap": null,
            "grid_row": null,
            "grid_template_areas": null,
            "grid_template_columns": null,
            "grid_template_rows": null,
            "height": null,
            "justify_content": null,
            "justify_items": null,
            "left": null,
            "margin": null,
            "max_height": null,
            "max_width": null,
            "min_height": null,
            "min_width": null,
            "object_fit": null,
            "object_position": null,
            "order": null,
            "overflow": null,
            "overflow_x": null,
            "overflow_y": null,
            "padding": null,
            "right": null,
            "top": null,
            "visibility": null,
            "width": null
          }
        },
        "7426260629ec4cb4a078fd9fe0d756f2": {
          "model_module": "@jupyter-widgets/controls",
          "model_name": "ProgressStyleModel",
          "model_module_version": "1.5.0",
          "state": {
            "_model_module": "@jupyter-widgets/controls",
            "_model_module_version": "1.5.0",
            "_model_name": "ProgressStyleModel",
            "_view_count": null,
            "_view_module": "@jupyter-widgets/base",
            "_view_module_version": "1.2.0",
            "_view_name": "StyleView",
            "bar_color": null,
            "description_width": ""
          }
        },
        "a33ab6b6f27f4c89a7919b6d38b44d0b": {
          "model_module": "@jupyter-widgets/base",
          "model_name": "LayoutModel",
          "model_module_version": "1.2.0",
          "state": {
            "_model_module": "@jupyter-widgets/base",
            "_model_module_version": "1.2.0",
            "_model_name": "LayoutModel",
            "_view_count": null,
            "_view_module": "@jupyter-widgets/base",
            "_view_module_version": "1.2.0",
            "_view_name": "LayoutView",
            "align_content": null,
            "align_items": null,
            "align_self": null,
            "border": null,
            "bottom": null,
            "display": null,
            "flex": null,
            "flex_flow": null,
            "grid_area": null,
            "grid_auto_columns": null,
            "grid_auto_flow": null,
            "grid_auto_rows": null,
            "grid_column": null,
            "grid_gap": null,
            "grid_row": null,
            "grid_template_areas": null,
            "grid_template_columns": null,
            "grid_template_rows": null,
            "height": null,
            "justify_content": null,
            "justify_items": null,
            "left": null,
            "margin": null,
            "max_height": null,
            "max_width": null,
            "min_height": null,
            "min_width": null,
            "object_fit": null,
            "object_position": null,
            "order": null,
            "overflow": null,
            "overflow_x": null,
            "overflow_y": null,
            "padding": null,
            "right": null,
            "top": null,
            "visibility": null,
            "width": null
          }
        },
        "c39f8d885b0a40399941fcfb137b4d1a": {
          "model_module": "@jupyter-widgets/controls",
          "model_name": "DescriptionStyleModel",
          "model_module_version": "1.5.0",
          "state": {
            "_model_module": "@jupyter-widgets/controls",
            "_model_module_version": "1.5.0",
            "_model_name": "DescriptionStyleModel",
            "_view_count": null,
            "_view_module": "@jupyter-widgets/base",
            "_view_module_version": "1.2.0",
            "_view_name": "StyleView",
            "description_width": ""
          }
        },
        "def645c16ee94255a5057fbd53d1f654": {
          "model_module": "@jupyter-widgets/controls",
          "model_name": "HBoxModel",
          "model_module_version": "1.5.0",
          "state": {
            "_dom_classes": [],
            "_model_module": "@jupyter-widgets/controls",
            "_model_module_version": "1.5.0",
            "_model_name": "HBoxModel",
            "_view_count": null,
            "_view_module": "@jupyter-widgets/controls",
            "_view_module_version": "1.5.0",
            "_view_name": "HBoxView",
            "box_style": "",
            "children": [
              "IPY_MODEL_61b4b8e6c9084bb6855fefb32270683b",
              "IPY_MODEL_b01d29b07d8f4b4baf29167b594bda63",
              "IPY_MODEL_0327cbea79b8409583d2d4562ccf3444"
            ],
            "layout": "IPY_MODEL_24fb12439336450cba236fcc240e1d48"
          }
        },
        "61b4b8e6c9084bb6855fefb32270683b": {
          "model_module": "@jupyter-widgets/controls",
          "model_name": "HTMLModel",
          "model_module_version": "1.5.0",
          "state": {
            "_dom_classes": [],
            "_model_module": "@jupyter-widgets/controls",
            "_model_module_version": "1.5.0",
            "_model_name": "HTMLModel",
            "_view_count": null,
            "_view_module": "@jupyter-widgets/controls",
            "_view_module_version": "1.5.0",
            "_view_name": "HTMLView",
            "description": "",
            "description_tooltip": null,
            "layout": "IPY_MODEL_9a00cf5e0fe147c892ab7b6b7a6959e4",
            "placeholder": "​",
            "style": "IPY_MODEL_9fbf68392e614578b86ede9fc019ceb1",
            "value": "Map: 100%"
          }
        },
        "b01d29b07d8f4b4baf29167b594bda63": {
          "model_module": "@jupyter-widgets/controls",
          "model_name": "FloatProgressModel",
          "model_module_version": "1.5.0",
          "state": {
            "_dom_classes": [],
            "_model_module": "@jupyter-widgets/controls",
            "_model_module_version": "1.5.0",
            "_model_name": "FloatProgressModel",
            "_view_count": null,
            "_view_module": "@jupyter-widgets/controls",
            "_view_module_version": "1.5.0",
            "_view_name": "ProgressView",
            "bar_style": "success",
            "description": "",
            "description_tooltip": null,
            "layout": "IPY_MODEL_a96871231c0e4ec6b5cd40dfc58a7167",
            "max": 216,
            "min": 0,
            "orientation": "horizontal",
            "style": "IPY_MODEL_06a1ace0bd084323a5a1d2d6d1d82b4f",
            "value": 216
          }
        },
        "0327cbea79b8409583d2d4562ccf3444": {
          "model_module": "@jupyter-widgets/controls",
          "model_name": "HTMLModel",
          "model_module_version": "1.5.0",
          "state": {
            "_dom_classes": [],
            "_model_module": "@jupyter-widgets/controls",
            "_model_module_version": "1.5.0",
            "_model_name": "HTMLModel",
            "_view_count": null,
            "_view_module": "@jupyter-widgets/controls",
            "_view_module_version": "1.5.0",
            "_view_name": "HTMLView",
            "description": "",
            "description_tooltip": null,
            "layout": "IPY_MODEL_32c6581f7853445bbfdddf77366424e8",
            "placeholder": "​",
            "style": "IPY_MODEL_48f40556ccc94eedbeb6b910028d8bb5",
            "value": " 216/216 [00:00&lt;00:00, 230.65 examples/s]"
          }
        },
        "24fb12439336450cba236fcc240e1d48": {
          "model_module": "@jupyter-widgets/base",
          "model_name": "LayoutModel",
          "model_module_version": "1.2.0",
          "state": {
            "_model_module": "@jupyter-widgets/base",
            "_model_module_version": "1.2.0",
            "_model_name": "LayoutModel",
            "_view_count": null,
            "_view_module": "@jupyter-widgets/base",
            "_view_module_version": "1.2.0",
            "_view_name": "LayoutView",
            "align_content": null,
            "align_items": null,
            "align_self": null,
            "border": null,
            "bottom": null,
            "display": null,
            "flex": null,
            "flex_flow": null,
            "grid_area": null,
            "grid_auto_columns": null,
            "grid_auto_flow": null,
            "grid_auto_rows": null,
            "grid_column": null,
            "grid_gap": null,
            "grid_row": null,
            "grid_template_areas": null,
            "grid_template_columns": null,
            "grid_template_rows": null,
            "height": null,
            "justify_content": null,
            "justify_items": null,
            "left": null,
            "margin": null,
            "max_height": null,
            "max_width": null,
            "min_height": null,
            "min_width": null,
            "object_fit": null,
            "object_position": null,
            "order": null,
            "overflow": null,
            "overflow_x": null,
            "overflow_y": null,
            "padding": null,
            "right": null,
            "top": null,
            "visibility": null,
            "width": null
          }
        },
        "9a00cf5e0fe147c892ab7b6b7a6959e4": {
          "model_module": "@jupyter-widgets/base",
          "model_name": "LayoutModel",
          "model_module_version": "1.2.0",
          "state": {
            "_model_module": "@jupyter-widgets/base",
            "_model_module_version": "1.2.0",
            "_model_name": "LayoutModel",
            "_view_count": null,
            "_view_module": "@jupyter-widgets/base",
            "_view_module_version": "1.2.0",
            "_view_name": "LayoutView",
            "align_content": null,
            "align_items": null,
            "align_self": null,
            "border": null,
            "bottom": null,
            "display": null,
            "flex": null,
            "flex_flow": null,
            "grid_area": null,
            "grid_auto_columns": null,
            "grid_auto_flow": null,
            "grid_auto_rows": null,
            "grid_column": null,
            "grid_gap": null,
            "grid_row": null,
            "grid_template_areas": null,
            "grid_template_columns": null,
            "grid_template_rows": null,
            "height": null,
            "justify_content": null,
            "justify_items": null,
            "left": null,
            "margin": null,
            "max_height": null,
            "max_width": null,
            "min_height": null,
            "min_width": null,
            "object_fit": null,
            "object_position": null,
            "order": null,
            "overflow": null,
            "overflow_x": null,
            "overflow_y": null,
            "padding": null,
            "right": null,
            "top": null,
            "visibility": null,
            "width": null
          }
        },
        "9fbf68392e614578b86ede9fc019ceb1": {
          "model_module": "@jupyter-widgets/controls",
          "model_name": "DescriptionStyleModel",
          "model_module_version": "1.5.0",
          "state": {
            "_model_module": "@jupyter-widgets/controls",
            "_model_module_version": "1.5.0",
            "_model_name": "DescriptionStyleModel",
            "_view_count": null,
            "_view_module": "@jupyter-widgets/base",
            "_view_module_version": "1.2.0",
            "_view_name": "StyleView",
            "description_width": ""
          }
        },
        "a96871231c0e4ec6b5cd40dfc58a7167": {
          "model_module": "@jupyter-widgets/base",
          "model_name": "LayoutModel",
          "model_module_version": "1.2.0",
          "state": {
            "_model_module": "@jupyter-widgets/base",
            "_model_module_version": "1.2.0",
            "_model_name": "LayoutModel",
            "_view_count": null,
            "_view_module": "@jupyter-widgets/base",
            "_view_module_version": "1.2.0",
            "_view_name": "LayoutView",
            "align_content": null,
            "align_items": null,
            "align_self": null,
            "border": null,
            "bottom": null,
            "display": null,
            "flex": null,
            "flex_flow": null,
            "grid_area": null,
            "grid_auto_columns": null,
            "grid_auto_flow": null,
            "grid_auto_rows": null,
            "grid_column": null,
            "grid_gap": null,
            "grid_row": null,
            "grid_template_areas": null,
            "grid_template_columns": null,
            "grid_template_rows": null,
            "height": null,
            "justify_content": null,
            "justify_items": null,
            "left": null,
            "margin": null,
            "max_height": null,
            "max_width": null,
            "min_height": null,
            "min_width": null,
            "object_fit": null,
            "object_position": null,
            "order": null,
            "overflow": null,
            "overflow_x": null,
            "overflow_y": null,
            "padding": null,
            "right": null,
            "top": null,
            "visibility": null,
            "width": null
          }
        },
        "06a1ace0bd084323a5a1d2d6d1d82b4f": {
          "model_module": "@jupyter-widgets/controls",
          "model_name": "ProgressStyleModel",
          "model_module_version": "1.5.0",
          "state": {
            "_model_module": "@jupyter-widgets/controls",
            "_model_module_version": "1.5.0",
            "_model_name": "ProgressStyleModel",
            "_view_count": null,
            "_view_module": "@jupyter-widgets/base",
            "_view_module_version": "1.2.0",
            "_view_name": "StyleView",
            "bar_color": null,
            "description_width": ""
          }
        },
        "32c6581f7853445bbfdddf77366424e8": {
          "model_module": "@jupyter-widgets/base",
          "model_name": "LayoutModel",
          "model_module_version": "1.2.0",
          "state": {
            "_model_module": "@jupyter-widgets/base",
            "_model_module_version": "1.2.0",
            "_model_name": "LayoutModel",
            "_view_count": null,
            "_view_module": "@jupyter-widgets/base",
            "_view_module_version": "1.2.0",
            "_view_name": "LayoutView",
            "align_content": null,
            "align_items": null,
            "align_self": null,
            "border": null,
            "bottom": null,
            "display": null,
            "flex": null,
            "flex_flow": null,
            "grid_area": null,
            "grid_auto_columns": null,
            "grid_auto_flow": null,
            "grid_auto_rows": null,
            "grid_column": null,
            "grid_gap": null,
            "grid_row": null,
            "grid_template_areas": null,
            "grid_template_columns": null,
            "grid_template_rows": null,
            "height": null,
            "justify_content": null,
            "justify_items": null,
            "left": null,
            "margin": null,
            "max_height": null,
            "max_width": null,
            "min_height": null,
            "min_width": null,
            "object_fit": null,
            "object_position": null,
            "order": null,
            "overflow": null,
            "overflow_x": null,
            "overflow_y": null,
            "padding": null,
            "right": null,
            "top": null,
            "visibility": null,
            "width": null
          }
        },
        "48f40556ccc94eedbeb6b910028d8bb5": {
          "model_module": "@jupyter-widgets/controls",
          "model_name": "DescriptionStyleModel",
          "model_module_version": "1.5.0",
          "state": {
            "_model_module": "@jupyter-widgets/controls",
            "_model_module_version": "1.5.0",
            "_model_name": "DescriptionStyleModel",
            "_view_count": null,
            "_view_module": "@jupyter-widgets/base",
            "_view_module_version": "1.2.0",
            "_view_name": "StyleView",
            "description_width": ""
          }
        },
        "9dff82c5e67a4621a624d705f97105e8": {
          "model_module": "@jupyter-widgets/controls",
          "model_name": "HBoxModel",
          "model_module_version": "1.5.0",
          "state": {
            "_dom_classes": [],
            "_model_module": "@jupyter-widgets/controls",
            "_model_module_version": "1.5.0",
            "_model_name": "HBoxModel",
            "_view_count": null,
            "_view_module": "@jupyter-widgets/controls",
            "_view_module_version": "1.5.0",
            "_view_name": "HBoxView",
            "box_style": "",
            "children": [
              "IPY_MODEL_3b5457cb798740ce869798f56c013a71",
              "IPY_MODEL_fd8b5d7d974148058862c36af38924be",
              "IPY_MODEL_4d1781f18fd54506a3cfc651e2b8a225"
            ],
            "layout": "IPY_MODEL_fbcb69605c444b7eba22e5ed061b718e"
          }
        },
        "3b5457cb798740ce869798f56c013a71": {
          "model_module": "@jupyter-widgets/controls",
          "model_name": "HTMLModel",
          "model_module_version": "1.5.0",
          "state": {
            "_dom_classes": [],
            "_model_module": "@jupyter-widgets/controls",
            "_model_module_version": "1.5.0",
            "_model_name": "HTMLModel",
            "_view_count": null,
            "_view_module": "@jupyter-widgets/controls",
            "_view_module_version": "1.5.0",
            "_view_name": "HTMLView",
            "description": "",
            "description_tooltip": null,
            "layout": "IPY_MODEL_1228f491fb274b67a916726c021e0cc1",
            "placeholder": "​",
            "style": "IPY_MODEL_5210f78df9d14788a5b4eb81ca6cfda9",
            "value": "Map: 100%"
          }
        },
        "fd8b5d7d974148058862c36af38924be": {
          "model_module": "@jupyter-widgets/controls",
          "model_name": "FloatProgressModel",
          "model_module_version": "1.5.0",
          "state": {
            "_dom_classes": [],
            "_model_module": "@jupyter-widgets/controls",
            "_model_module_version": "1.5.0",
            "_model_name": "FloatProgressModel",
            "_view_count": null,
            "_view_module": "@jupyter-widgets/controls",
            "_view_module_version": "1.5.0",
            "_view_name": "ProgressView",
            "bar_style": "success",
            "description": "",
            "description_tooltip": null,
            "layout": "IPY_MODEL_7723852cfd8f4749904a290df8b8698f",
            "max": 322,
            "min": 0,
            "orientation": "horizontal",
            "style": "IPY_MODEL_79303c21b6e54f8d87aee8caec5a0deb",
            "value": 322
          }
        },
        "4d1781f18fd54506a3cfc651e2b8a225": {
          "model_module": "@jupyter-widgets/controls",
          "model_name": "HTMLModel",
          "model_module_version": "1.5.0",
          "state": {
            "_dom_classes": [],
            "_model_module": "@jupyter-widgets/controls",
            "_model_module_version": "1.5.0",
            "_model_name": "HTMLModel",
            "_view_count": null,
            "_view_module": "@jupyter-widgets/controls",
            "_view_module_version": "1.5.0",
            "_view_name": "HTMLView",
            "description": "",
            "description_tooltip": null,
            "layout": "IPY_MODEL_293953ec7a65468da52d245db00e66da",
            "placeholder": "​",
            "style": "IPY_MODEL_f16082ac97404a8fb02bc2f17176aafd",
            "value": " 322/322 [00:01&lt;00:00, 161.85 examples/s]"
          }
        },
        "fbcb69605c444b7eba22e5ed061b718e": {
          "model_module": "@jupyter-widgets/base",
          "model_name": "LayoutModel",
          "model_module_version": "1.2.0",
          "state": {
            "_model_module": "@jupyter-widgets/base",
            "_model_module_version": "1.2.0",
            "_model_name": "LayoutModel",
            "_view_count": null,
            "_view_module": "@jupyter-widgets/base",
            "_view_module_version": "1.2.0",
            "_view_name": "LayoutView",
            "align_content": null,
            "align_items": null,
            "align_self": null,
            "border": null,
            "bottom": null,
            "display": null,
            "flex": null,
            "flex_flow": null,
            "grid_area": null,
            "grid_auto_columns": null,
            "grid_auto_flow": null,
            "grid_auto_rows": null,
            "grid_column": null,
            "grid_gap": null,
            "grid_row": null,
            "grid_template_areas": null,
            "grid_template_columns": null,
            "grid_template_rows": null,
            "height": null,
            "justify_content": null,
            "justify_items": null,
            "left": null,
            "margin": null,
            "max_height": null,
            "max_width": null,
            "min_height": null,
            "min_width": null,
            "object_fit": null,
            "object_position": null,
            "order": null,
            "overflow": null,
            "overflow_x": null,
            "overflow_y": null,
            "padding": null,
            "right": null,
            "top": null,
            "visibility": null,
            "width": null
          }
        },
        "1228f491fb274b67a916726c021e0cc1": {
          "model_module": "@jupyter-widgets/base",
          "model_name": "LayoutModel",
          "model_module_version": "1.2.0",
          "state": {
            "_model_module": "@jupyter-widgets/base",
            "_model_module_version": "1.2.0",
            "_model_name": "LayoutModel",
            "_view_count": null,
            "_view_module": "@jupyter-widgets/base",
            "_view_module_version": "1.2.0",
            "_view_name": "LayoutView",
            "align_content": null,
            "align_items": null,
            "align_self": null,
            "border": null,
            "bottom": null,
            "display": null,
            "flex": null,
            "flex_flow": null,
            "grid_area": null,
            "grid_auto_columns": null,
            "grid_auto_flow": null,
            "grid_auto_rows": null,
            "grid_column": null,
            "grid_gap": null,
            "grid_row": null,
            "grid_template_areas": null,
            "grid_template_columns": null,
            "grid_template_rows": null,
            "height": null,
            "justify_content": null,
            "justify_items": null,
            "left": null,
            "margin": null,
            "max_height": null,
            "max_width": null,
            "min_height": null,
            "min_width": null,
            "object_fit": null,
            "object_position": null,
            "order": null,
            "overflow": null,
            "overflow_x": null,
            "overflow_y": null,
            "padding": null,
            "right": null,
            "top": null,
            "visibility": null,
            "width": null
          }
        },
        "5210f78df9d14788a5b4eb81ca6cfda9": {
          "model_module": "@jupyter-widgets/controls",
          "model_name": "DescriptionStyleModel",
          "model_module_version": "1.5.0",
          "state": {
            "_model_module": "@jupyter-widgets/controls",
            "_model_module_version": "1.5.0",
            "_model_name": "DescriptionStyleModel",
            "_view_count": null,
            "_view_module": "@jupyter-widgets/base",
            "_view_module_version": "1.2.0",
            "_view_name": "StyleView",
            "description_width": ""
          }
        },
        "7723852cfd8f4749904a290df8b8698f": {
          "model_module": "@jupyter-widgets/base",
          "model_name": "LayoutModel",
          "model_module_version": "1.2.0",
          "state": {
            "_model_module": "@jupyter-widgets/base",
            "_model_module_version": "1.2.0",
            "_model_name": "LayoutModel",
            "_view_count": null,
            "_view_module": "@jupyter-widgets/base",
            "_view_module_version": "1.2.0",
            "_view_name": "LayoutView",
            "align_content": null,
            "align_items": null,
            "align_self": null,
            "border": null,
            "bottom": null,
            "display": null,
            "flex": null,
            "flex_flow": null,
            "grid_area": null,
            "grid_auto_columns": null,
            "grid_auto_flow": null,
            "grid_auto_rows": null,
            "grid_column": null,
            "grid_gap": null,
            "grid_row": null,
            "grid_template_areas": null,
            "grid_template_columns": null,
            "grid_template_rows": null,
            "height": null,
            "justify_content": null,
            "justify_items": null,
            "left": null,
            "margin": null,
            "max_height": null,
            "max_width": null,
            "min_height": null,
            "min_width": null,
            "object_fit": null,
            "object_position": null,
            "order": null,
            "overflow": null,
            "overflow_x": null,
            "overflow_y": null,
            "padding": null,
            "right": null,
            "top": null,
            "visibility": null,
            "width": null
          }
        },
        "79303c21b6e54f8d87aee8caec5a0deb": {
          "model_module": "@jupyter-widgets/controls",
          "model_name": "ProgressStyleModel",
          "model_module_version": "1.5.0",
          "state": {
            "_model_module": "@jupyter-widgets/controls",
            "_model_module_version": "1.5.0",
            "_model_name": "ProgressStyleModel",
            "_view_count": null,
            "_view_module": "@jupyter-widgets/base",
            "_view_module_version": "1.2.0",
            "_view_name": "StyleView",
            "bar_color": null,
            "description_width": ""
          }
        },
        "293953ec7a65468da52d245db00e66da": {
          "model_module": "@jupyter-widgets/base",
          "model_name": "LayoutModel",
          "model_module_version": "1.2.0",
          "state": {
            "_model_module": "@jupyter-widgets/base",
            "_model_module_version": "1.2.0",
            "_model_name": "LayoutModel",
            "_view_count": null,
            "_view_module": "@jupyter-widgets/base",
            "_view_module_version": "1.2.0",
            "_view_name": "LayoutView",
            "align_content": null,
            "align_items": null,
            "align_self": null,
            "border": null,
            "bottom": null,
            "display": null,
            "flex": null,
            "flex_flow": null,
            "grid_area": null,
            "grid_auto_columns": null,
            "grid_auto_flow": null,
            "grid_auto_rows": null,
            "grid_column": null,
            "grid_gap": null,
            "grid_row": null,
            "grid_template_areas": null,
            "grid_template_columns": null,
            "grid_template_rows": null,
            "height": null,
            "justify_content": null,
            "justify_items": null,
            "left": null,
            "margin": null,
            "max_height": null,
            "max_width": null,
            "min_height": null,
            "min_width": null,
            "object_fit": null,
            "object_position": null,
            "order": null,
            "overflow": null,
            "overflow_x": null,
            "overflow_y": null,
            "padding": null,
            "right": null,
            "top": null,
            "visibility": null,
            "width": null
          }
        },
        "f16082ac97404a8fb02bc2f17176aafd": {
          "model_module": "@jupyter-widgets/controls",
          "model_name": "DescriptionStyleModel",
          "model_module_version": "1.5.0",
          "state": {
            "_model_module": "@jupyter-widgets/controls",
            "_model_module_version": "1.5.0",
            "_model_name": "DescriptionStyleModel",
            "_view_count": null,
            "_view_module": "@jupyter-widgets/base",
            "_view_module_version": "1.2.0",
            "_view_name": "StyleView",
            "description_width": ""
          }
        },
        "cad0b1a0d23e44a08e7594ea0f0fb1a3": {
          "model_module": "@jupyter-widgets/controls",
          "model_name": "HBoxModel",
          "model_module_version": "1.5.0",
          "state": {
            "_dom_classes": [],
            "_model_module": "@jupyter-widgets/controls",
            "_model_module_version": "1.5.0",
            "_model_name": "HBoxModel",
            "_view_count": null,
            "_view_module": "@jupyter-widgets/controls",
            "_view_module_version": "1.5.0",
            "_view_name": "HBoxView",
            "box_style": "",
            "children": [
              "IPY_MODEL_3ada462d1f7e444f9fd9712dafbced68",
              "IPY_MODEL_58a31a3ad09749718b6048324ea2f378",
              "IPY_MODEL_fa8355982ba949ae81af889a6676c24f"
            ],
            "layout": "IPY_MODEL_2e9b519717624b44a39b3004de97d910"
          }
        },
        "3ada462d1f7e444f9fd9712dafbced68": {
          "model_module": "@jupyter-widgets/controls",
          "model_name": "HTMLModel",
          "model_module_version": "1.5.0",
          "state": {
            "_dom_classes": [],
            "_model_module": "@jupyter-widgets/controls",
            "_model_module_version": "1.5.0",
            "_model_name": "HTMLModel",
            "_view_count": null,
            "_view_module": "@jupyter-widgets/controls",
            "_view_module_version": "1.5.0",
            "_view_name": "HTMLView",
            "description": "",
            "description_tooltip": null,
            "layout": "IPY_MODEL_9c9efc3a337441d4835ebb72a401cb67",
            "placeholder": "​",
            "style": "IPY_MODEL_f94f6702f7a44ac2a6f65dacec8afce0",
            "value": "Downloading builder script: 100%"
          }
        },
        "58a31a3ad09749718b6048324ea2f378": {
          "model_module": "@jupyter-widgets/controls",
          "model_name": "FloatProgressModel",
          "model_module_version": "1.5.0",
          "state": {
            "_dom_classes": [],
            "_model_module": "@jupyter-widgets/controls",
            "_model_module_version": "1.5.0",
            "_model_name": "FloatProgressModel",
            "_view_count": null,
            "_view_module": "@jupyter-widgets/controls",
            "_view_module_version": "1.5.0",
            "_view_name": "ProgressView",
            "bar_style": "success",
            "description": "",
            "description_tooltip": null,
            "layout": "IPY_MODEL_787fc2bfac504feab1c74a9ac994b114",
            "max": 4203,
            "min": 0,
            "orientation": "horizontal",
            "style": "IPY_MODEL_51ee8f37ea0148a6a78d1be5b561522f",
            "value": 4203
          }
        },
        "fa8355982ba949ae81af889a6676c24f": {
          "model_module": "@jupyter-widgets/controls",
          "model_name": "HTMLModel",
          "model_module_version": "1.5.0",
          "state": {
            "_dom_classes": [],
            "_model_module": "@jupyter-widgets/controls",
            "_model_module_version": "1.5.0",
            "_model_name": "HTMLModel",
            "_view_count": null,
            "_view_module": "@jupyter-widgets/controls",
            "_view_module_version": "1.5.0",
            "_view_name": "HTMLView",
            "description": "",
            "description_tooltip": null,
            "layout": "IPY_MODEL_c88a6efe2f4e4b3baff2df8e2734b297",
            "placeholder": "​",
            "style": "IPY_MODEL_74df07c521fd4d9c92b7a9ce045fdb88",
            "value": " 4.20k/4.20k [00:00&lt;00:00, 147kB/s]"
          }
        },
        "2e9b519717624b44a39b3004de97d910": {
          "model_module": "@jupyter-widgets/base",
          "model_name": "LayoutModel",
          "model_module_version": "1.2.0",
          "state": {
            "_model_module": "@jupyter-widgets/base",
            "_model_module_version": "1.2.0",
            "_model_name": "LayoutModel",
            "_view_count": null,
            "_view_module": "@jupyter-widgets/base",
            "_view_module_version": "1.2.0",
            "_view_name": "LayoutView",
            "align_content": null,
            "align_items": null,
            "align_self": null,
            "border": null,
            "bottom": null,
            "display": null,
            "flex": null,
            "flex_flow": null,
            "grid_area": null,
            "grid_auto_columns": null,
            "grid_auto_flow": null,
            "grid_auto_rows": null,
            "grid_column": null,
            "grid_gap": null,
            "grid_row": null,
            "grid_template_areas": null,
            "grid_template_columns": null,
            "grid_template_rows": null,
            "height": null,
            "justify_content": null,
            "justify_items": null,
            "left": null,
            "margin": null,
            "max_height": null,
            "max_width": null,
            "min_height": null,
            "min_width": null,
            "object_fit": null,
            "object_position": null,
            "order": null,
            "overflow": null,
            "overflow_x": null,
            "overflow_y": null,
            "padding": null,
            "right": null,
            "top": null,
            "visibility": null,
            "width": null
          }
        },
        "9c9efc3a337441d4835ebb72a401cb67": {
          "model_module": "@jupyter-widgets/base",
          "model_name": "LayoutModel",
          "model_module_version": "1.2.0",
          "state": {
            "_model_module": "@jupyter-widgets/base",
            "_model_module_version": "1.2.0",
            "_model_name": "LayoutModel",
            "_view_count": null,
            "_view_module": "@jupyter-widgets/base",
            "_view_module_version": "1.2.0",
            "_view_name": "LayoutView",
            "align_content": null,
            "align_items": null,
            "align_self": null,
            "border": null,
            "bottom": null,
            "display": null,
            "flex": null,
            "flex_flow": null,
            "grid_area": null,
            "grid_auto_columns": null,
            "grid_auto_flow": null,
            "grid_auto_rows": null,
            "grid_column": null,
            "grid_gap": null,
            "grid_row": null,
            "grid_template_areas": null,
            "grid_template_columns": null,
            "grid_template_rows": null,
            "height": null,
            "justify_content": null,
            "justify_items": null,
            "left": null,
            "margin": null,
            "max_height": null,
            "max_width": null,
            "min_height": null,
            "min_width": null,
            "object_fit": null,
            "object_position": null,
            "order": null,
            "overflow": null,
            "overflow_x": null,
            "overflow_y": null,
            "padding": null,
            "right": null,
            "top": null,
            "visibility": null,
            "width": null
          }
        },
        "f94f6702f7a44ac2a6f65dacec8afce0": {
          "model_module": "@jupyter-widgets/controls",
          "model_name": "DescriptionStyleModel",
          "model_module_version": "1.5.0",
          "state": {
            "_model_module": "@jupyter-widgets/controls",
            "_model_module_version": "1.5.0",
            "_model_name": "DescriptionStyleModel",
            "_view_count": null,
            "_view_module": "@jupyter-widgets/base",
            "_view_module_version": "1.2.0",
            "_view_name": "StyleView",
            "description_width": ""
          }
        },
        "787fc2bfac504feab1c74a9ac994b114": {
          "model_module": "@jupyter-widgets/base",
          "model_name": "LayoutModel",
          "model_module_version": "1.2.0",
          "state": {
            "_model_module": "@jupyter-widgets/base",
            "_model_module_version": "1.2.0",
            "_model_name": "LayoutModel",
            "_view_count": null,
            "_view_module": "@jupyter-widgets/base",
            "_view_module_version": "1.2.0",
            "_view_name": "LayoutView",
            "align_content": null,
            "align_items": null,
            "align_self": null,
            "border": null,
            "bottom": null,
            "display": null,
            "flex": null,
            "flex_flow": null,
            "grid_area": null,
            "grid_auto_columns": null,
            "grid_auto_flow": null,
            "grid_auto_rows": null,
            "grid_column": null,
            "grid_gap": null,
            "grid_row": null,
            "grid_template_areas": null,
            "grid_template_columns": null,
            "grid_template_rows": null,
            "height": null,
            "justify_content": null,
            "justify_items": null,
            "left": null,
            "margin": null,
            "max_height": null,
            "max_width": null,
            "min_height": null,
            "min_width": null,
            "object_fit": null,
            "object_position": null,
            "order": null,
            "overflow": null,
            "overflow_x": null,
            "overflow_y": null,
            "padding": null,
            "right": null,
            "top": null,
            "visibility": null,
            "width": null
          }
        },
        "51ee8f37ea0148a6a78d1be5b561522f": {
          "model_module": "@jupyter-widgets/controls",
          "model_name": "ProgressStyleModel",
          "model_module_version": "1.5.0",
          "state": {
            "_model_module": "@jupyter-widgets/controls",
            "_model_module_version": "1.5.0",
            "_model_name": "ProgressStyleModel",
            "_view_count": null,
            "_view_module": "@jupyter-widgets/base",
            "_view_module_version": "1.2.0",
            "_view_name": "StyleView",
            "bar_color": null,
            "description_width": ""
          }
        },
        "c88a6efe2f4e4b3baff2df8e2734b297": {
          "model_module": "@jupyter-widgets/base",
          "model_name": "LayoutModel",
          "model_module_version": "1.2.0",
          "state": {
            "_model_module": "@jupyter-widgets/base",
            "_model_module_version": "1.2.0",
            "_model_name": "LayoutModel",
            "_view_count": null,
            "_view_module": "@jupyter-widgets/base",
            "_view_module_version": "1.2.0",
            "_view_name": "LayoutView",
            "align_content": null,
            "align_items": null,
            "align_self": null,
            "border": null,
            "bottom": null,
            "display": null,
            "flex": null,
            "flex_flow": null,
            "grid_area": null,
            "grid_auto_columns": null,
            "grid_auto_flow": null,
            "grid_auto_rows": null,
            "grid_column": null,
            "grid_gap": null,
            "grid_row": null,
            "grid_template_areas": null,
            "grid_template_columns": null,
            "grid_template_rows": null,
            "height": null,
            "justify_content": null,
            "justify_items": null,
            "left": null,
            "margin": null,
            "max_height": null,
            "max_width": null,
            "min_height": null,
            "min_width": null,
            "object_fit": null,
            "object_position": null,
            "order": null,
            "overflow": null,
            "overflow_x": null,
            "overflow_y": null,
            "padding": null,
            "right": null,
            "top": null,
            "visibility": null,
            "width": null
          }
        },
        "74df07c521fd4d9c92b7a9ce045fdb88": {
          "model_module": "@jupyter-widgets/controls",
          "model_name": "DescriptionStyleModel",
          "model_module_version": "1.5.0",
          "state": {
            "_model_module": "@jupyter-widgets/controls",
            "_model_module_version": "1.5.0",
            "_model_name": "DescriptionStyleModel",
            "_view_count": null,
            "_view_module": "@jupyter-widgets/base",
            "_view_module_version": "1.2.0",
            "_view_name": "StyleView",
            "description_width": ""
          }
        }
      }
    }
  },
  "nbformat": 4,
  "nbformat_minor": 0
}